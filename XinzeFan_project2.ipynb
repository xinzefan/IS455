{
 "cells": [
  {
   "cell_type": "code",
   "execution_count": 1,
   "id": "smoking-rouge",
   "metadata": {},
   "outputs": [],
   "source": [
    "%matplotlib inline\n",
    "import matplotlib\n",
    "import matplotlib.pyplot as plt\n",
    "\n",
    "import numpy as np\n",
    "import pandas as pd\n",
    "\n",
    "import bqplot\n",
    "import ipywidgets\n",
    "import matplotlib.colors as mpl_colors\n",
    "#import seaborn as sns\n",
    "\n",
    "import json\n",
    "import plotly.express as px\n",
    "import plotly.graph_objs as go\n",
    "from urllib.request import urlopen"
   ]
  },
  {
   "cell_type": "markdown",
   "id": "infectious-cologne",
   "metadata": {},
   "source": [
    "## import data"
   ]
  },
  {
   "cell_type": "code",
   "execution_count": 2,
   "id": "understood-grounds",
   "metadata": {},
   "outputs": [],
   "source": [
    "data = pd.read_csv(\"Concentration-Weekly.csv\")"
   ]
  },
  {
   "cell_type": "code",
   "execution_count": 26,
   "id": "canadian-traveler",
   "metadata": {},
   "outputs": [
    {
     "ename": "ModuleNotFoundError",
     "evalue": "No module named 'urllib2'",
     "output_type": "error",
     "traceback": [
      "\u001b[0;31m---------------------------------------------------------------------------\u001b[0m",
      "\u001b[0;31mModuleNotFoundError\u001b[0m                       Traceback (most recent call last)",
      "\u001b[0;32m<ipython-input-26-8fbe97672c7a>\u001b[0m in \u001b[0;36m<module>\u001b[0;34m\u001b[0m\n\u001b[1;32m      1\u001b[0m \u001b[0;32mimport\u001b[0m \u001b[0mcsv\u001b[0m\u001b[0;34m\u001b[0m\u001b[0;34m\u001b[0m\u001b[0m\n\u001b[0;32m----> 2\u001b[0;31m \u001b[0;32mimport\u001b[0m \u001b[0murllib2\u001b[0m\u001b[0;34m\u001b[0m\u001b[0;34m\u001b[0m\u001b[0m\n\u001b[0m\u001b[1;32m      3\u001b[0m \u001b[0;34m\u001b[0m\u001b[0m\n\u001b[1;32m      4\u001b[0m \u001b[0murl\u001b[0m \u001b[0;34m=\u001b[0m \u001b[0;34m'https://github.com/xinzefan/xinzefan.github.io/blob/main/Concentration-Weekly.csv'\u001b[0m\u001b[0;34m\u001b[0m\u001b[0;34m\u001b[0m\u001b[0m\n\u001b[1;32m      5\u001b[0m \u001b[0mresponse\u001b[0m \u001b[0;34m=\u001b[0m \u001b[0murllib2\u001b[0m\u001b[0;34m.\u001b[0m\u001b[0murlopen\u001b[0m\u001b[0;34m(\u001b[0m\u001b[0murl\u001b[0m\u001b[0;34m)\u001b[0m\u001b[0;34m\u001b[0m\u001b[0;34m\u001b[0m\u001b[0m\n",
      "\u001b[0;31mModuleNotFoundError\u001b[0m: No module named 'urllib2'"
     ]
    }
   ],
   "source": [
    "import csv\n",
    "import urllib2\n",
    "\n",
    "url = 'https://github.com/xinzefan/xinzefan.github.io/blob/main/Concentration-Weekly.csv'\n",
    "response = urllib2.urlopen(url)\n",
    "cr = csv.reader(response)\n",
    "\n",
    "for row in cr:\n",
    "    print (row)"
   ]
  },
  {
   "cell_type": "code",
   "execution_count": 3,
   "id": "intensive-dominican",
   "metadata": {},
   "outputs": [
    {
     "data": {
      "text/html": [
       "<div>\n",
       "<style scoped>\n",
       "    .dataframe tbody tr th:only-of-type {\n",
       "        vertical-align: middle;\n",
       "    }\n",
       "\n",
       "    .dataframe tbody tr th {\n",
       "        vertical-align: top;\n",
       "    }\n",
       "\n",
       "    .dataframe thead th {\n",
       "        text-align: right;\n",
       "    }\n",
       "</style>\n",
       "<table border=\"1\" class=\"dataframe\">\n",
       "  <thead>\n",
       "    <tr style=\"text-align: right;\">\n",
       "      <th></th>\n",
       "      <th>SITE_ID</th>\n",
       "      <th>YEAR</th>\n",
       "      <th>DATEON</th>\n",
       "      <th>DATEOFF</th>\n",
       "      <th>SO2_CONC</th>\n",
       "      <th>SO4_CONC</th>\n",
       "      <th>NO3_CONC</th>\n",
       "      <th>HNO3_CONC</th>\n",
       "      <th>TNO3_CONC</th>\n",
       "      <th>NH4_CONC</th>\n",
       "      <th>CA_CONC</th>\n",
       "      <th>NA_CONC</th>\n",
       "      <th>MG_CONC</th>\n",
       "      <th>K_CONC</th>\n",
       "      <th>CL_CONC</th>\n",
       "    </tr>\n",
       "  </thead>\n",
       "  <tbody>\n",
       "    <tr>\n",
       "      <th>0</th>\n",
       "      <td>POF425</td>\n",
       "      <td>2003.0</td>\n",
       "      <td>03/18/2003 09:00:00</td>\n",
       "      <td>03/25/2003 08:00:00</td>\n",
       "      <td>NaN</td>\n",
       "      <td>NaN</td>\n",
       "      <td>NaN</td>\n",
       "      <td>NaN</td>\n",
       "      <td>NaN</td>\n",
       "      <td>NaN</td>\n",
       "      <td>NaN</td>\n",
       "      <td>NaN</td>\n",
       "      <td>NaN</td>\n",
       "      <td>NaN</td>\n",
       "      <td>NaN</td>\n",
       "    </tr>\n",
       "    <tr>\n",
       "      <th>1</th>\n",
       "      <td>POF425</td>\n",
       "      <td>2002.0</td>\n",
       "      <td>03/05/2002 09:00:00</td>\n",
       "      <td>03/12/2002 08:00:00</td>\n",
       "      <td>0.633</td>\n",
       "      <td>0.981</td>\n",
       "      <td>0.062</td>\n",
       "      <td>0.076</td>\n",
       "      <td>0.136</td>\n",
       "      <td>0.153</td>\n",
       "      <td>0.052</td>\n",
       "      <td>0.056</td>\n",
       "      <td>0.017</td>\n",
       "      <td>0.019</td>\n",
       "      <td>NaN</td>\n",
       "    </tr>\n",
       "    <tr>\n",
       "      <th>2</th>\n",
       "      <td>POF425</td>\n",
       "      <td>2001.0</td>\n",
       "      <td>03/13/2001 09:00:00</td>\n",
       "      <td>03/20/2001 08:00:00</td>\n",
       "      <td>0.554</td>\n",
       "      <td>0.759</td>\n",
       "      <td>0.091</td>\n",
       "      <td>0.083</td>\n",
       "      <td>0.173</td>\n",
       "      <td>0.103</td>\n",
       "      <td>NaN</td>\n",
       "      <td>NaN</td>\n",
       "      <td>NaN</td>\n",
       "      <td>NaN</td>\n",
       "      <td>NaN</td>\n",
       "    </tr>\n",
       "    <tr>\n",
       "      <th>3</th>\n",
       "      <td>POF425</td>\n",
       "      <td>2003.0</td>\n",
       "      <td>03/25/2003 09:00:00</td>\n",
       "      <td>04/01/2003 08:00:00</td>\n",
       "      <td>0.263</td>\n",
       "      <td>1.010</td>\n",
       "      <td>0.150</td>\n",
       "      <td>0.125</td>\n",
       "      <td>0.273</td>\n",
       "      <td>0.154</td>\n",
       "      <td>0.046</td>\n",
       "      <td>0.095</td>\n",
       "      <td>0.031</td>\n",
       "      <td>0.019</td>\n",
       "      <td>NaN</td>\n",
       "    </tr>\n",
       "    <tr>\n",
       "      <th>4</th>\n",
       "      <td>POF425</td>\n",
       "      <td>2000.0</td>\n",
       "      <td>03/28/2000 09:00:00</td>\n",
       "      <td>04/04/2000 08:00:00</td>\n",
       "      <td>NaN</td>\n",
       "      <td>NaN</td>\n",
       "      <td>NaN</td>\n",
       "      <td>NaN</td>\n",
       "      <td>NaN</td>\n",
       "      <td>NaN</td>\n",
       "      <td>NaN</td>\n",
       "      <td>NaN</td>\n",
       "      <td>NaN</td>\n",
       "      <td>NaN</td>\n",
       "      <td>NaN</td>\n",
       "    </tr>\n",
       "    <tr>\n",
       "      <th>...</th>\n",
       "      <td>...</td>\n",
       "      <td>...</td>\n",
       "      <td>...</td>\n",
       "      <td>...</td>\n",
       "      <td>...</td>\n",
       "      <td>...</td>\n",
       "      <td>...</td>\n",
       "      <td>...</td>\n",
       "      <td>...</td>\n",
       "      <td>...</td>\n",
       "      <td>...</td>\n",
       "      <td>...</td>\n",
       "      <td>...</td>\n",
       "      <td>...</td>\n",
       "      <td>...</td>\n",
       "    </tr>\n",
       "    <tr>\n",
       "      <th>94783</th>\n",
       "      <td>DEN417</td>\n",
       "      <td>2004.0</td>\n",
       "      <td>02/03/2004 09:00:00</td>\n",
       "      <td>02/10/2004 08:00:00</td>\n",
       "      <td>0.660</td>\n",
       "      <td>0.272</td>\n",
       "      <td>0.091</td>\n",
       "      <td>0.042</td>\n",
       "      <td>0.132</td>\n",
       "      <td>0.053</td>\n",
       "      <td>0.016</td>\n",
       "      <td>0.220</td>\n",
       "      <td>0.026</td>\n",
       "      <td>0.012</td>\n",
       "      <td>0.386</td>\n",
       "    </tr>\n",
       "    <tr>\n",
       "      <th>94784</th>\n",
       "      <td>DEN417</td>\n",
       "      <td>2017.0</td>\n",
       "      <td>02/14/2017 09:00:00</td>\n",
       "      <td>02/21/2017 08:00:00</td>\n",
       "      <td>0.601</td>\n",
       "      <td>0.412</td>\n",
       "      <td>0.096</td>\n",
       "      <td>0.034</td>\n",
       "      <td>0.130</td>\n",
       "      <td>0.119</td>\n",
       "      <td>0.019</td>\n",
       "      <td>0.121</td>\n",
       "      <td>0.025</td>\n",
       "      <td>0.015</td>\n",
       "      <td>0.151</td>\n",
       "    </tr>\n",
       "    <tr>\n",
       "      <th>94785</th>\n",
       "      <td>DEN417</td>\n",
       "      <td>2007.0</td>\n",
       "      <td>02/27/2007 09:00:00</td>\n",
       "      <td>03/06/2007 08:00:00</td>\n",
       "      <td>1.297</td>\n",
       "      <td>0.877</td>\n",
       "      <td>0.200</td>\n",
       "      <td>0.088</td>\n",
       "      <td>0.286</td>\n",
       "      <td>0.200</td>\n",
       "      <td>0.023</td>\n",
       "      <td>0.101</td>\n",
       "      <td>0.019</td>\n",
       "      <td>0.015</td>\n",
       "      <td>0.022</td>\n",
       "    </tr>\n",
       "    <tr>\n",
       "      <th>94786</th>\n",
       "      <td>DEN417</td>\n",
       "      <td>2011.0</td>\n",
       "      <td>02/22/2011 09:00:00</td>\n",
       "      <td>03/01/2011 08:00:00</td>\n",
       "      <td>0.705</td>\n",
       "      <td>0.676</td>\n",
       "      <td>0.113</td>\n",
       "      <td>0.033</td>\n",
       "      <td>0.145</td>\n",
       "      <td>0.176</td>\n",
       "      <td>0.033</td>\n",
       "      <td>0.196</td>\n",
       "      <td>0.033</td>\n",
       "      <td>0.020</td>\n",
       "      <td>0.240</td>\n",
       "    </tr>\n",
       "    <tr>\n",
       "      <th>94787</th>\n",
       "      <td>DEN417</td>\n",
       "      <td>2015.0</td>\n",
       "      <td>02/17/2015 09:00:00</td>\n",
       "      <td>02/24/2015 08:00:00</td>\n",
       "      <td>0.383</td>\n",
       "      <td>0.227</td>\n",
       "      <td>0.053</td>\n",
       "      <td>0.033</td>\n",
       "      <td>0.085</td>\n",
       "      <td>0.076</td>\n",
       "      <td>0.013</td>\n",
       "      <td>0.049</td>\n",
       "      <td>0.007</td>\n",
       "      <td>0.005</td>\n",
       "      <td>0.049</td>\n",
       "    </tr>\n",
       "  </tbody>\n",
       "</table>\n",
       "<p>94788 rows × 15 columns</p>\n",
       "</div>"
      ],
      "text/plain": [
       "      SITE_ID    YEAR               DATEON              DATEOFF  SO2_CONC  \\\n",
       "0      POF425  2003.0  03/18/2003 09:00:00  03/25/2003 08:00:00       NaN   \n",
       "1      POF425  2002.0  03/05/2002 09:00:00  03/12/2002 08:00:00     0.633   \n",
       "2      POF425  2001.0  03/13/2001 09:00:00  03/20/2001 08:00:00     0.554   \n",
       "3      POF425  2003.0  03/25/2003 09:00:00  04/01/2003 08:00:00     0.263   \n",
       "4      POF425  2000.0  03/28/2000 09:00:00  04/04/2000 08:00:00       NaN   \n",
       "...       ...     ...                  ...                  ...       ...   \n",
       "94783  DEN417  2004.0  02/03/2004 09:00:00  02/10/2004 08:00:00     0.660   \n",
       "94784  DEN417  2017.0  02/14/2017 09:00:00  02/21/2017 08:00:00     0.601   \n",
       "94785  DEN417  2007.0  02/27/2007 09:00:00  03/06/2007 08:00:00     1.297   \n",
       "94786  DEN417  2011.0  02/22/2011 09:00:00  03/01/2011 08:00:00     0.705   \n",
       "94787  DEN417  2015.0  02/17/2015 09:00:00  02/24/2015 08:00:00     0.383   \n",
       "\n",
       "       SO4_CONC  NO3_CONC  HNO3_CONC  TNO3_CONC  NH4_CONC  CA_CONC  NA_CONC  \\\n",
       "0           NaN       NaN        NaN        NaN       NaN      NaN      NaN   \n",
       "1         0.981     0.062      0.076      0.136     0.153    0.052    0.056   \n",
       "2         0.759     0.091      0.083      0.173     0.103      NaN      NaN   \n",
       "3         1.010     0.150      0.125      0.273     0.154    0.046    0.095   \n",
       "4           NaN       NaN        NaN        NaN       NaN      NaN      NaN   \n",
       "...         ...       ...        ...        ...       ...      ...      ...   \n",
       "94783     0.272     0.091      0.042      0.132     0.053    0.016    0.220   \n",
       "94784     0.412     0.096      0.034      0.130     0.119    0.019    0.121   \n",
       "94785     0.877     0.200      0.088      0.286     0.200    0.023    0.101   \n",
       "94786     0.676     0.113      0.033      0.145     0.176    0.033    0.196   \n",
       "94787     0.227     0.053      0.033      0.085     0.076    0.013    0.049   \n",
       "\n",
       "       MG_CONC  K_CONC  CL_CONC  \n",
       "0          NaN     NaN      NaN  \n",
       "1        0.017   0.019      NaN  \n",
       "2          NaN     NaN      NaN  \n",
       "3        0.031   0.019      NaN  \n",
       "4          NaN     NaN      NaN  \n",
       "...        ...     ...      ...  \n",
       "94783    0.026   0.012    0.386  \n",
       "94784    0.025   0.015    0.151  \n",
       "94785    0.019   0.015    0.022  \n",
       "94786    0.033   0.020    0.240  \n",
       "94787    0.007   0.005    0.049  \n",
       "\n",
       "[94788 rows x 15 columns]"
      ]
     },
     "execution_count": 3,
     "metadata": {},
     "output_type": "execute_result"
    }
   ],
   "source": [
    "data"
   ]
  },
  {
   "cell_type": "code",
   "execution_count": 4,
   "id": "established-quarter",
   "metadata": {},
   "outputs": [],
   "source": [
    "# cleaning the Nan Data\n",
    "data = data.dropna()"
   ]
  },
  {
   "cell_type": "code",
   "execution_count": 5,
   "id": "dramatic-relations",
   "metadata": {},
   "outputs": [
    {
     "name": "stderr",
     "output_type": "stream",
     "text": [
      "/Users/xinzefan/opt/anaconda3/envs/DataViz/lib/python3.7/site-packages/ipykernel_launcher.py:2: SettingWithCopyWarning: \n",
      "A value is trying to be set on a copy of a slice from a DataFrame.\n",
      "Try using .loc[row_indexer,col_indexer] = value instead\n",
      "\n",
      "See the caveats in the documentation: https://pandas.pydata.org/pandas-docs/stable/user_guide/indexing.html#returning-a-view-versus-a-copy\n",
      "  \n"
     ]
    }
   ],
   "source": [
    "# convert year to integer\n",
    "data['YEAR'] = data['YEAR'].astype(str)"
   ]
  },
  {
   "cell_type": "code",
   "execution_count": 6,
   "id": "welcome-perception",
   "metadata": {},
   "outputs": [
    {
     "data": {
      "text/html": [
       "<div>\n",
       "<style scoped>\n",
       "    .dataframe tbody tr th:only-of-type {\n",
       "        vertical-align: middle;\n",
       "    }\n",
       "\n",
       "    .dataframe tbody tr th {\n",
       "        vertical-align: top;\n",
       "    }\n",
       "\n",
       "    .dataframe thead th {\n",
       "        text-align: right;\n",
       "    }\n",
       "</style>\n",
       "<table border=\"1\" class=\"dataframe\">\n",
       "  <thead>\n",
       "    <tr style=\"text-align: right;\">\n",
       "      <th></th>\n",
       "      <th>SITE_ID</th>\n",
       "      <th>YEAR</th>\n",
       "      <th>DATEON</th>\n",
       "      <th>DATEOFF</th>\n",
       "      <th>SO2_CONC</th>\n",
       "      <th>SO4_CONC</th>\n",
       "      <th>NO3_CONC</th>\n",
       "      <th>HNO3_CONC</th>\n",
       "      <th>TNO3_CONC</th>\n",
       "      <th>NH4_CONC</th>\n",
       "      <th>CA_CONC</th>\n",
       "      <th>NA_CONC</th>\n",
       "      <th>MG_CONC</th>\n",
       "      <th>K_CONC</th>\n",
       "      <th>CL_CONC</th>\n",
       "    </tr>\n",
       "  </thead>\n",
       "  <tbody>\n",
       "    <tr>\n",
       "      <th>16</th>\n",
       "      <td>SND152</td>\n",
       "      <td>2017.0</td>\n",
       "      <td>03/28/2017 09:00:00</td>\n",
       "      <td>04/04/2017 08:00:00</td>\n",
       "      <td>1.055</td>\n",
       "      <td>1.528</td>\n",
       "      <td>0.633</td>\n",
       "      <td>0.736</td>\n",
       "      <td>1.357</td>\n",
       "      <td>0.532</td>\n",
       "      <td>0.166</td>\n",
       "      <td>0.269</td>\n",
       "      <td>0.048</td>\n",
       "      <td>0.111</td>\n",
       "      <td>0.033</td>\n",
       "    </tr>\n",
       "    <tr>\n",
       "      <th>17</th>\n",
       "      <td>SND152</td>\n",
       "      <td>2016.0</td>\n",
       "      <td>03/29/2016 09:00:00</td>\n",
       "      <td>04/05/2016 08:00:00</td>\n",
       "      <td>0.667</td>\n",
       "      <td>1.036</td>\n",
       "      <td>0.401</td>\n",
       "      <td>0.632</td>\n",
       "      <td>1.023</td>\n",
       "      <td>0.466</td>\n",
       "      <td>0.228</td>\n",
       "      <td>0.087</td>\n",
       "      <td>0.032</td>\n",
       "      <td>0.074</td>\n",
       "      <td>0.033</td>\n",
       "    </tr>\n",
       "    <tr>\n",
       "      <th>18</th>\n",
       "      <td>SND152</td>\n",
       "      <td>2005.0</td>\n",
       "      <td>03/08/2005 09:00:00</td>\n",
       "      <td>03/15/2005 08:00:00</td>\n",
       "      <td>3.917</td>\n",
       "      <td>2.154</td>\n",
       "      <td>1.487</td>\n",
       "      <td>1.501</td>\n",
       "      <td>2.965</td>\n",
       "      <td>1.116</td>\n",
       "      <td>0.263</td>\n",
       "      <td>0.053</td>\n",
       "      <td>0.030</td>\n",
       "      <td>0.066</td>\n",
       "      <td>0.034</td>\n",
       "    </tr>\n",
       "    <tr>\n",
       "      <th>19</th>\n",
       "      <td>SND152</td>\n",
       "      <td>2008.0</td>\n",
       "      <td>03/11/2008 09:00:00</td>\n",
       "      <td>03/18/2008 08:00:00</td>\n",
       "      <td>4.969</td>\n",
       "      <td>3.826</td>\n",
       "      <td>1.071</td>\n",
       "      <td>1.973</td>\n",
       "      <td>3.013</td>\n",
       "      <td>1.539</td>\n",
       "      <td>0.227</td>\n",
       "      <td>0.109</td>\n",
       "      <td>0.034</td>\n",
       "      <td>0.075</td>\n",
       "      <td>0.040</td>\n",
       "    </tr>\n",
       "    <tr>\n",
       "      <th>21</th>\n",
       "      <td>SND152</td>\n",
       "      <td>2008.0</td>\n",
       "      <td>03/25/2008 09:00:00</td>\n",
       "      <td>04/01/2008 08:00:00</td>\n",
       "      <td>4.477</td>\n",
       "      <td>5.975</td>\n",
       "      <td>2.372</td>\n",
       "      <td>1.241</td>\n",
       "      <td>3.593</td>\n",
       "      <td>2.453</td>\n",
       "      <td>0.264</td>\n",
       "      <td>0.396</td>\n",
       "      <td>0.076</td>\n",
       "      <td>0.091</td>\n",
       "      <td>0.237</td>\n",
       "    </tr>\n",
       "    <tr>\n",
       "      <th>...</th>\n",
       "      <td>...</td>\n",
       "      <td>...</td>\n",
       "      <td>...</td>\n",
       "      <td>...</td>\n",
       "      <td>...</td>\n",
       "      <td>...</td>\n",
       "      <td>...</td>\n",
       "      <td>...</td>\n",
       "      <td>...</td>\n",
       "      <td>...</td>\n",
       "      <td>...</td>\n",
       "      <td>...</td>\n",
       "      <td>...</td>\n",
       "      <td>...</td>\n",
       "      <td>...</td>\n",
       "    </tr>\n",
       "    <tr>\n",
       "      <th>94783</th>\n",
       "      <td>DEN417</td>\n",
       "      <td>2004.0</td>\n",
       "      <td>02/03/2004 09:00:00</td>\n",
       "      <td>02/10/2004 08:00:00</td>\n",
       "      <td>0.660</td>\n",
       "      <td>0.272</td>\n",
       "      <td>0.091</td>\n",
       "      <td>0.042</td>\n",
       "      <td>0.132</td>\n",
       "      <td>0.053</td>\n",
       "      <td>0.016</td>\n",
       "      <td>0.220</td>\n",
       "      <td>0.026</td>\n",
       "      <td>0.012</td>\n",
       "      <td>0.386</td>\n",
       "    </tr>\n",
       "    <tr>\n",
       "      <th>94784</th>\n",
       "      <td>DEN417</td>\n",
       "      <td>2017.0</td>\n",
       "      <td>02/14/2017 09:00:00</td>\n",
       "      <td>02/21/2017 08:00:00</td>\n",
       "      <td>0.601</td>\n",
       "      <td>0.412</td>\n",
       "      <td>0.096</td>\n",
       "      <td>0.034</td>\n",
       "      <td>0.130</td>\n",
       "      <td>0.119</td>\n",
       "      <td>0.019</td>\n",
       "      <td>0.121</td>\n",
       "      <td>0.025</td>\n",
       "      <td>0.015</td>\n",
       "      <td>0.151</td>\n",
       "    </tr>\n",
       "    <tr>\n",
       "      <th>94785</th>\n",
       "      <td>DEN417</td>\n",
       "      <td>2007.0</td>\n",
       "      <td>02/27/2007 09:00:00</td>\n",
       "      <td>03/06/2007 08:00:00</td>\n",
       "      <td>1.297</td>\n",
       "      <td>0.877</td>\n",
       "      <td>0.200</td>\n",
       "      <td>0.088</td>\n",
       "      <td>0.286</td>\n",
       "      <td>0.200</td>\n",
       "      <td>0.023</td>\n",
       "      <td>0.101</td>\n",
       "      <td>0.019</td>\n",
       "      <td>0.015</td>\n",
       "      <td>0.022</td>\n",
       "    </tr>\n",
       "    <tr>\n",
       "      <th>94786</th>\n",
       "      <td>DEN417</td>\n",
       "      <td>2011.0</td>\n",
       "      <td>02/22/2011 09:00:00</td>\n",
       "      <td>03/01/2011 08:00:00</td>\n",
       "      <td>0.705</td>\n",
       "      <td>0.676</td>\n",
       "      <td>0.113</td>\n",
       "      <td>0.033</td>\n",
       "      <td>0.145</td>\n",
       "      <td>0.176</td>\n",
       "      <td>0.033</td>\n",
       "      <td>0.196</td>\n",
       "      <td>0.033</td>\n",
       "      <td>0.020</td>\n",
       "      <td>0.240</td>\n",
       "    </tr>\n",
       "    <tr>\n",
       "      <th>94787</th>\n",
       "      <td>DEN417</td>\n",
       "      <td>2015.0</td>\n",
       "      <td>02/17/2015 09:00:00</td>\n",
       "      <td>02/24/2015 08:00:00</td>\n",
       "      <td>0.383</td>\n",
       "      <td>0.227</td>\n",
       "      <td>0.053</td>\n",
       "      <td>0.033</td>\n",
       "      <td>0.085</td>\n",
       "      <td>0.076</td>\n",
       "      <td>0.013</td>\n",
       "      <td>0.049</td>\n",
       "      <td>0.007</td>\n",
       "      <td>0.005</td>\n",
       "      <td>0.049</td>\n",
       "    </tr>\n",
       "  </tbody>\n",
       "</table>\n",
       "<p>77079 rows × 15 columns</p>\n",
       "</div>"
      ],
      "text/plain": [
       "      SITE_ID    YEAR               DATEON              DATEOFF  SO2_CONC  \\\n",
       "16     SND152  2017.0  03/28/2017 09:00:00  04/04/2017 08:00:00     1.055   \n",
       "17     SND152  2016.0  03/29/2016 09:00:00  04/05/2016 08:00:00     0.667   \n",
       "18     SND152  2005.0  03/08/2005 09:00:00  03/15/2005 08:00:00     3.917   \n",
       "19     SND152  2008.0  03/11/2008 09:00:00  03/18/2008 08:00:00     4.969   \n",
       "21     SND152  2008.0  03/25/2008 09:00:00  04/01/2008 08:00:00     4.477   \n",
       "...       ...     ...                  ...                  ...       ...   \n",
       "94783  DEN417  2004.0  02/03/2004 09:00:00  02/10/2004 08:00:00     0.660   \n",
       "94784  DEN417  2017.0  02/14/2017 09:00:00  02/21/2017 08:00:00     0.601   \n",
       "94785  DEN417  2007.0  02/27/2007 09:00:00  03/06/2007 08:00:00     1.297   \n",
       "94786  DEN417  2011.0  02/22/2011 09:00:00  03/01/2011 08:00:00     0.705   \n",
       "94787  DEN417  2015.0  02/17/2015 09:00:00  02/24/2015 08:00:00     0.383   \n",
       "\n",
       "       SO4_CONC  NO3_CONC  HNO3_CONC  TNO3_CONC  NH4_CONC  CA_CONC  NA_CONC  \\\n",
       "16        1.528     0.633      0.736      1.357     0.532    0.166    0.269   \n",
       "17        1.036     0.401      0.632      1.023     0.466    0.228    0.087   \n",
       "18        2.154     1.487      1.501      2.965     1.116    0.263    0.053   \n",
       "19        3.826     1.071      1.973      3.013     1.539    0.227    0.109   \n",
       "21        5.975     2.372      1.241      3.593     2.453    0.264    0.396   \n",
       "...         ...       ...        ...        ...       ...      ...      ...   \n",
       "94783     0.272     0.091      0.042      0.132     0.053    0.016    0.220   \n",
       "94784     0.412     0.096      0.034      0.130     0.119    0.019    0.121   \n",
       "94785     0.877     0.200      0.088      0.286     0.200    0.023    0.101   \n",
       "94786     0.676     0.113      0.033      0.145     0.176    0.033    0.196   \n",
       "94787     0.227     0.053      0.033      0.085     0.076    0.013    0.049   \n",
       "\n",
       "       MG_CONC  K_CONC  CL_CONC  \n",
       "16       0.048   0.111    0.033  \n",
       "17       0.032   0.074    0.033  \n",
       "18       0.030   0.066    0.034  \n",
       "19       0.034   0.075    0.040  \n",
       "21       0.076   0.091    0.237  \n",
       "...        ...     ...      ...  \n",
       "94783    0.026   0.012    0.386  \n",
       "94784    0.025   0.015    0.151  \n",
       "94785    0.019   0.015    0.022  \n",
       "94786    0.033   0.020    0.240  \n",
       "94787    0.007   0.005    0.049  \n",
       "\n",
       "[77079 rows x 15 columns]"
      ]
     },
     "execution_count": 6,
     "metadata": {},
     "output_type": "execute_result"
    }
   ],
   "source": [
    "data"
   ]
  },
  {
   "cell_type": "markdown",
   "id": "matched-austria",
   "metadata": {},
   "source": [
    "## first interact\n",
    "- this interac enable the user have a brief overview about what information was concluded in the dataset, for example, whate type of polution will be mentioned in the dataset. \n",
    "- the x_axis is the different pollutions observed in the air\n",
    "- the y_axis indicated the observation year or site"
   ]
  },
  {
   "cell_type": "code",
   "execution_count": 7,
   "id": "driving-senator",
   "metadata": {},
   "outputs": [
    {
     "data": {
      "application/vnd.jupyter.widget-view+json": {
       "model_id": "e2ae3751b44c494ab565f410014edf12",
       "version_major": 2,
       "version_minor": 0
      },
      "text/plain": [
       "interactive(children=(Dropdown(description='xf', options=('SO2_CONC', 'SO4_CONC', 'NO3_CONC', 'HNO3_CONC', 'TN…"
      ]
     },
     "metadata": {},
     "output_type": "display_data"
    }
   ],
   "source": [
    "@ipywidgets.interact(xf = [\"SO2_CONC\",\"SO4_CONC\",\"NO3_CONC\",\"HNO3_CONC\",\"TNO3_CONC\",\"NH4_CONC\",\"CA_CONC\",\"NA_CONC\",\n",
    "                           \"MG_CONC\",\"K_CONC\",\"CL_CONC\"],\n",
    "                     yf =[\"SITE_ID\",\"YEAR\"],\n",
    "                     \n",
    "                    colormap = plt.colormaps())\n",
    "\n",
    "def plot(xf,yf):\n",
    "    plt.figure(figsize=(10,15))\n",
    "    plt.scatter(data[xf], data[yf])\n",
    "    plt.xlabel(xf)\n",
    "    plt.ylabel(yf)\n",
    "    plt.show()"
   ]
  },
  {
   "cell_type": "markdown",
   "id": "disciplinary-romania",
   "metadata": {},
   "source": [
    "## Second interact/dashboard\n",
    "- a heatmap which shows the average amount of different pollution during that year\n",
    "- click on the map, the left side will shows the histogram which indicated the site_id with the average amout of the polution. In this case, it will enable the user to explore which site cause the high amout of the total average amount during that specific year"
   ]
  },
  {
   "cell_type": "code",
   "execution_count": 8,
   "id": "fourth-involvement",
   "metadata": {},
   "outputs": [
    {
     "data": {
      "text/html": [
       "<div>\n",
       "<style scoped>\n",
       "    .dataframe tbody tr th:only-of-type {\n",
       "        vertical-align: middle;\n",
       "    }\n",
       "\n",
       "    .dataframe tbody tr th {\n",
       "        vertical-align: top;\n",
       "    }\n",
       "\n",
       "    .dataframe thead th {\n",
       "        text-align: right;\n",
       "    }\n",
       "</style>\n",
       "<table border=\"1\" class=\"dataframe\">\n",
       "  <thead>\n",
       "    <tr style=\"text-align: right;\">\n",
       "      <th></th>\n",
       "      <th>CA_CONC</th>\n",
       "      <th>CL_CONC</th>\n",
       "      <th>DATEOFF</th>\n",
       "      <th>DATEON</th>\n",
       "      <th>HNO3_CONC</th>\n",
       "      <th>K_CONC</th>\n",
       "      <th>MG_CONC</th>\n",
       "      <th>NA_CONC</th>\n",
       "      <th>NH4_CONC</th>\n",
       "      <th>NO3_CONC</th>\n",
       "      <th>SITE_ID</th>\n",
       "      <th>SO2_CONC</th>\n",
       "      <th>SO4_CONC</th>\n",
       "      <th>TNO3_CONC</th>\n",
       "    </tr>\n",
       "    <tr>\n",
       "      <th>YEAR</th>\n",
       "      <th></th>\n",
       "      <th></th>\n",
       "      <th></th>\n",
       "      <th></th>\n",
       "      <th></th>\n",
       "      <th></th>\n",
       "      <th></th>\n",
       "      <th></th>\n",
       "      <th></th>\n",
       "      <th></th>\n",
       "      <th></th>\n",
       "      <th></th>\n",
       "      <th></th>\n",
       "      <th></th>\n",
       "    </tr>\n",
       "  </thead>\n",
       "  <tbody>\n",
       "    <tr>\n",
       "      <th>2001.0</th>\n",
       "      <td>0.308000</td>\n",
       "      <td>5.660880</td>\n",
       "      <td>NaN</td>\n",
       "      <td>NaN</td>\n",
       "      <td>0.452320</td>\n",
       "      <td>0.188880</td>\n",
       "      <td>0.452080</td>\n",
       "      <td>3.426720</td>\n",
       "      <td>0.547720</td>\n",
       "      <td>1.679640</td>\n",
       "      <td>NaN</td>\n",
       "      <td>1.856680</td>\n",
       "      <td>3.110840</td>\n",
       "      <td>2.124680</td>\n",
       "    </tr>\n",
       "    <tr>\n",
       "      <th>2002.0</th>\n",
       "      <td>0.298000</td>\n",
       "      <td>3.587255</td>\n",
       "      <td>NaN</td>\n",
       "      <td>NaN</td>\n",
       "      <td>0.639000</td>\n",
       "      <td>0.159941</td>\n",
       "      <td>0.339431</td>\n",
       "      <td>2.586000</td>\n",
       "      <td>0.632961</td>\n",
       "      <td>2.049471</td>\n",
       "      <td>NaN</td>\n",
       "      <td>1.809569</td>\n",
       "      <td>3.217961</td>\n",
       "      <td>2.678255</td>\n",
       "    </tr>\n",
       "    <tr>\n",
       "      <th>2003.0</th>\n",
       "      <td>0.226354</td>\n",
       "      <td>0.199690</td>\n",
       "      <td>NaN</td>\n",
       "      <td>NaN</td>\n",
       "      <td>1.239101</td>\n",
       "      <td>0.063331</td>\n",
       "      <td>0.050750</td>\n",
       "      <td>0.192745</td>\n",
       "      <td>0.932700</td>\n",
       "      <td>0.752774</td>\n",
       "      <td>NaN</td>\n",
       "      <td>3.962459</td>\n",
       "      <td>2.767487</td>\n",
       "      <td>1.972117</td>\n",
       "    </tr>\n",
       "    <tr>\n",
       "      <th>2004.0</th>\n",
       "      <td>0.223886</td>\n",
       "      <td>0.131615</td>\n",
       "      <td>NaN</td>\n",
       "      <td>NaN</td>\n",
       "      <td>1.231054</td>\n",
       "      <td>0.061376</td>\n",
       "      <td>0.047994</td>\n",
       "      <td>0.182301</td>\n",
       "      <td>0.955306</td>\n",
       "      <td>0.843389</td>\n",
       "      <td>NaN</td>\n",
       "      <td>3.701672</td>\n",
       "      <td>2.736362</td>\n",
       "      <td>2.054808</td>\n",
       "    </tr>\n",
       "    <tr>\n",
       "      <th>2005.0</th>\n",
       "      <td>0.244775</td>\n",
       "      <td>0.127577</td>\n",
       "      <td>NaN</td>\n",
       "      <td>NaN</td>\n",
       "      <td>1.341029</td>\n",
       "      <td>0.062516</td>\n",
       "      <td>0.048962</td>\n",
       "      <td>0.164697</td>\n",
       "      <td>1.095286</td>\n",
       "      <td>0.816632</td>\n",
       "      <td>NaN</td>\n",
       "      <td>3.784051</td>\n",
       "      <td>3.123658</td>\n",
       "      <td>2.136304</td>\n",
       "    </tr>\n",
       "    <tr>\n",
       "      <th>2006.0</th>\n",
       "      <td>0.252276</td>\n",
       "      <td>0.121323</td>\n",
       "      <td>NaN</td>\n",
       "      <td>NaN</td>\n",
       "      <td>1.153986</td>\n",
       "      <td>0.062792</td>\n",
       "      <td>0.050073</td>\n",
       "      <td>0.160624</td>\n",
       "      <td>0.892787</td>\n",
       "      <td>0.743060</td>\n",
       "      <td>NaN</td>\n",
       "      <td>3.136524</td>\n",
       "      <td>2.643479</td>\n",
       "      <td>1.878643</td>\n",
       "    </tr>\n",
       "    <tr>\n",
       "      <th>2007.0</th>\n",
       "      <td>0.268248</td>\n",
       "      <td>0.137499</td>\n",
       "      <td>NaN</td>\n",
       "      <td>NaN</td>\n",
       "      <td>1.175604</td>\n",
       "      <td>0.065364</td>\n",
       "      <td>0.053765</td>\n",
       "      <td>0.182201</td>\n",
       "      <td>0.938654</td>\n",
       "      <td>0.821885</td>\n",
       "      <td>NaN</td>\n",
       "      <td>2.988294</td>\n",
       "      <td>2.648979</td>\n",
       "      <td>1.978751</td>\n",
       "    </tr>\n",
       "    <tr>\n",
       "      <th>2008.0</th>\n",
       "      <td>0.250841</td>\n",
       "      <td>0.163453</td>\n",
       "      <td>NaN</td>\n",
       "      <td>NaN</td>\n",
       "      <td>1.019399</td>\n",
       "      <td>0.068011</td>\n",
       "      <td>0.053286</td>\n",
       "      <td>0.204687</td>\n",
       "      <td>0.830464</td>\n",
       "      <td>0.775904</td>\n",
       "      <td>NaN</td>\n",
       "      <td>2.575132</td>\n",
       "      <td>2.331923</td>\n",
       "      <td>1.779034</td>\n",
       "    </tr>\n",
       "    <tr>\n",
       "      <th>2009.0</th>\n",
       "      <td>0.233906</td>\n",
       "      <td>0.148447</td>\n",
       "      <td>NaN</td>\n",
       "      <td>NaN</td>\n",
       "      <td>0.771407</td>\n",
       "      <td>0.074095</td>\n",
       "      <td>0.047313</td>\n",
       "      <td>0.175568</td>\n",
       "      <td>0.730108</td>\n",
       "      <td>0.751007</td>\n",
       "      <td>NaN</td>\n",
       "      <td>1.764133</td>\n",
       "      <td>1.940892</td>\n",
       "      <td>1.510100</td>\n",
       "    </tr>\n",
       "    <tr>\n",
       "      <th>2010.0</th>\n",
       "      <td>0.259213</td>\n",
       "      <td>0.140411</td>\n",
       "      <td>NaN</td>\n",
       "      <td>NaN</td>\n",
       "      <td>0.822359</td>\n",
       "      <td>0.073070</td>\n",
       "      <td>0.049388</td>\n",
       "      <td>0.165716</td>\n",
       "      <td>0.738484</td>\n",
       "      <td>0.803204</td>\n",
       "      <td>NaN</td>\n",
       "      <td>1.729852</td>\n",
       "      <td>1.893247</td>\n",
       "      <td>1.612450</td>\n",
       "    </tr>\n",
       "    <tr>\n",
       "      <th>2011.0</th>\n",
       "      <td>0.242702</td>\n",
       "      <td>0.165434</td>\n",
       "      <td>NaN</td>\n",
       "      <td>NaN</td>\n",
       "      <td>0.801119</td>\n",
       "      <td>0.064449</td>\n",
       "      <td>0.050335</td>\n",
       "      <td>0.195772</td>\n",
       "      <td>0.709987</td>\n",
       "      <td>0.724382</td>\n",
       "      <td>NaN</td>\n",
       "      <td>1.394419</td>\n",
       "      <td>1.866216</td>\n",
       "      <td>1.512604</td>\n",
       "    </tr>\n",
       "    <tr>\n",
       "      <th>2012.0</th>\n",
       "      <td>0.275853</td>\n",
       "      <td>0.159455</td>\n",
       "      <td>NaN</td>\n",
       "      <td>NaN</td>\n",
       "      <td>0.766219</td>\n",
       "      <td>0.062828</td>\n",
       "      <td>0.052257</td>\n",
       "      <td>0.177068</td>\n",
       "      <td>0.607268</td>\n",
       "      <td>0.700162</td>\n",
       "      <td>NaN</td>\n",
       "      <td>1.047859</td>\n",
       "      <td>1.584209</td>\n",
       "      <td>1.453808</td>\n",
       "    </tr>\n",
       "    <tr>\n",
       "      <th>2013.0</th>\n",
       "      <td>0.235448</td>\n",
       "      <td>0.165429</td>\n",
       "      <td>NaN</td>\n",
       "      <td>NaN</td>\n",
       "      <td>0.661960</td>\n",
       "      <td>0.057105</td>\n",
       "      <td>0.046582</td>\n",
       "      <td>0.177582</td>\n",
       "      <td>0.587832</td>\n",
       "      <td>0.685717</td>\n",
       "      <td>NaN</td>\n",
       "      <td>0.968012</td>\n",
       "      <td>1.494411</td>\n",
       "      <td>1.336927</td>\n",
       "    </tr>\n",
       "    <tr>\n",
       "      <th>2014.0</th>\n",
       "      <td>0.257183</td>\n",
       "      <td>0.133904</td>\n",
       "      <td>NaN</td>\n",
       "      <td>NaN</td>\n",
       "      <td>0.634035</td>\n",
       "      <td>0.056716</td>\n",
       "      <td>0.044435</td>\n",
       "      <td>0.162409</td>\n",
       "      <td>0.562467</td>\n",
       "      <td>0.716684</td>\n",
       "      <td>NaN</td>\n",
       "      <td>1.044649</td>\n",
       "      <td>1.414442</td>\n",
       "      <td>1.340587</td>\n",
       "    </tr>\n",
       "    <tr>\n",
       "      <th>2015.0</th>\n",
       "      <td>0.241711</td>\n",
       "      <td>0.161309</td>\n",
       "      <td>NaN</td>\n",
       "      <td>NaN</td>\n",
       "      <td>0.622097</td>\n",
       "      <td>0.057625</td>\n",
       "      <td>0.045638</td>\n",
       "      <td>0.168850</td>\n",
       "      <td>0.464320</td>\n",
       "      <td>0.631988</td>\n",
       "      <td>NaN</td>\n",
       "      <td>0.847099</td>\n",
       "      <td>1.192513</td>\n",
       "      <td>1.244145</td>\n",
       "    </tr>\n",
       "    <tr>\n",
       "      <th>2016.0</th>\n",
       "      <td>0.242683</td>\n",
       "      <td>0.149711</td>\n",
       "      <td>NaN</td>\n",
       "      <td>NaN</td>\n",
       "      <td>0.577623</td>\n",
       "      <td>0.054283</td>\n",
       "      <td>0.042772</td>\n",
       "      <td>0.156181</td>\n",
       "      <td>0.385604</td>\n",
       "      <td>0.586200</td>\n",
       "      <td>NaN</td>\n",
       "      <td>0.631840</td>\n",
       "      <td>0.963564</td>\n",
       "      <td>1.154581</td>\n",
       "    </tr>\n",
       "    <tr>\n",
       "      <th>2017.0</th>\n",
       "      <td>0.266726</td>\n",
       "      <td>0.150799</td>\n",
       "      <td>NaN</td>\n",
       "      <td>NaN</td>\n",
       "      <td>0.549502</td>\n",
       "      <td>0.060041</td>\n",
       "      <td>0.045355</td>\n",
       "      <td>0.157502</td>\n",
       "      <td>0.379771</td>\n",
       "      <td>0.603719</td>\n",
       "      <td>NaN</td>\n",
       "      <td>0.579053</td>\n",
       "      <td>0.934975</td>\n",
       "      <td>1.144445</td>\n",
       "    </tr>\n",
       "    <tr>\n",
       "      <th>2018.0</th>\n",
       "      <td>0.240544</td>\n",
       "      <td>0.146995</td>\n",
       "      <td>NaN</td>\n",
       "      <td>NaN</td>\n",
       "      <td>0.523469</td>\n",
       "      <td>0.063451</td>\n",
       "      <td>0.044193</td>\n",
       "      <td>0.153972</td>\n",
       "      <td>0.382627</td>\n",
       "      <td>0.663361</td>\n",
       "      <td>NaN</td>\n",
       "      <td>0.445805</td>\n",
       "      <td>0.869887</td>\n",
       "      <td>1.178457</td>\n",
       "    </tr>\n",
       "    <tr>\n",
       "      <th>2019.0</th>\n",
       "      <td>0.216048</td>\n",
       "      <td>0.150910</td>\n",
       "      <td>NaN</td>\n",
       "      <td>NaN</td>\n",
       "      <td>0.500087</td>\n",
       "      <td>0.053359</td>\n",
       "      <td>0.041806</td>\n",
       "      <td>0.151237</td>\n",
       "      <td>0.374831</td>\n",
       "      <td>0.646848</td>\n",
       "      <td>NaN</td>\n",
       "      <td>0.394784</td>\n",
       "      <td>0.854586</td>\n",
       "      <td>1.138943</td>\n",
       "    </tr>\n",
       "    <tr>\n",
       "      <th>2020.0</th>\n",
       "      <td>0.251823</td>\n",
       "      <td>0.175413</td>\n",
       "      <td>NaN</td>\n",
       "      <td>NaN</td>\n",
       "      <td>0.492816</td>\n",
       "      <td>0.063710</td>\n",
       "      <td>0.047570</td>\n",
       "      <td>0.161015</td>\n",
       "      <td>0.317291</td>\n",
       "      <td>0.549090</td>\n",
       "      <td>NaN</td>\n",
       "      <td>0.354310</td>\n",
       "      <td>0.776776</td>\n",
       "      <td>1.034020</td>\n",
       "    </tr>\n",
       "  </tbody>\n",
       "</table>\n",
       "</div>"
      ],
      "text/plain": [
       "         CA_CONC   CL_CONC  DATEOFF  DATEON  HNO3_CONC    K_CONC   MG_CONC  \\\n",
       "YEAR                                                                         \n",
       "2001.0  0.308000  5.660880      NaN     NaN   0.452320  0.188880  0.452080   \n",
       "2002.0  0.298000  3.587255      NaN     NaN   0.639000  0.159941  0.339431   \n",
       "2003.0  0.226354  0.199690      NaN     NaN   1.239101  0.063331  0.050750   \n",
       "2004.0  0.223886  0.131615      NaN     NaN   1.231054  0.061376  0.047994   \n",
       "2005.0  0.244775  0.127577      NaN     NaN   1.341029  0.062516  0.048962   \n",
       "2006.0  0.252276  0.121323      NaN     NaN   1.153986  0.062792  0.050073   \n",
       "2007.0  0.268248  0.137499      NaN     NaN   1.175604  0.065364  0.053765   \n",
       "2008.0  0.250841  0.163453      NaN     NaN   1.019399  0.068011  0.053286   \n",
       "2009.0  0.233906  0.148447      NaN     NaN   0.771407  0.074095  0.047313   \n",
       "2010.0  0.259213  0.140411      NaN     NaN   0.822359  0.073070  0.049388   \n",
       "2011.0  0.242702  0.165434      NaN     NaN   0.801119  0.064449  0.050335   \n",
       "2012.0  0.275853  0.159455      NaN     NaN   0.766219  0.062828  0.052257   \n",
       "2013.0  0.235448  0.165429      NaN     NaN   0.661960  0.057105  0.046582   \n",
       "2014.0  0.257183  0.133904      NaN     NaN   0.634035  0.056716  0.044435   \n",
       "2015.0  0.241711  0.161309      NaN     NaN   0.622097  0.057625  0.045638   \n",
       "2016.0  0.242683  0.149711      NaN     NaN   0.577623  0.054283  0.042772   \n",
       "2017.0  0.266726  0.150799      NaN     NaN   0.549502  0.060041  0.045355   \n",
       "2018.0  0.240544  0.146995      NaN     NaN   0.523469  0.063451  0.044193   \n",
       "2019.0  0.216048  0.150910      NaN     NaN   0.500087  0.053359  0.041806   \n",
       "2020.0  0.251823  0.175413      NaN     NaN   0.492816  0.063710  0.047570   \n",
       "\n",
       "         NA_CONC  NH4_CONC  NO3_CONC  SITE_ID  SO2_CONC  SO4_CONC  TNO3_CONC  \n",
       "YEAR                                                                          \n",
       "2001.0  3.426720  0.547720  1.679640      NaN  1.856680  3.110840   2.124680  \n",
       "2002.0  2.586000  0.632961  2.049471      NaN  1.809569  3.217961   2.678255  \n",
       "2003.0  0.192745  0.932700  0.752774      NaN  3.962459  2.767487   1.972117  \n",
       "2004.0  0.182301  0.955306  0.843389      NaN  3.701672  2.736362   2.054808  \n",
       "2005.0  0.164697  1.095286  0.816632      NaN  3.784051  3.123658   2.136304  \n",
       "2006.0  0.160624  0.892787  0.743060      NaN  3.136524  2.643479   1.878643  \n",
       "2007.0  0.182201  0.938654  0.821885      NaN  2.988294  2.648979   1.978751  \n",
       "2008.0  0.204687  0.830464  0.775904      NaN  2.575132  2.331923   1.779034  \n",
       "2009.0  0.175568  0.730108  0.751007      NaN  1.764133  1.940892   1.510100  \n",
       "2010.0  0.165716  0.738484  0.803204      NaN  1.729852  1.893247   1.612450  \n",
       "2011.0  0.195772  0.709987  0.724382      NaN  1.394419  1.866216   1.512604  \n",
       "2012.0  0.177068  0.607268  0.700162      NaN  1.047859  1.584209   1.453808  \n",
       "2013.0  0.177582  0.587832  0.685717      NaN  0.968012  1.494411   1.336927  \n",
       "2014.0  0.162409  0.562467  0.716684      NaN  1.044649  1.414442   1.340587  \n",
       "2015.0  0.168850  0.464320  0.631988      NaN  0.847099  1.192513   1.244145  \n",
       "2016.0  0.156181  0.385604  0.586200      NaN  0.631840  0.963564   1.154581  \n",
       "2017.0  0.157502  0.379771  0.603719      NaN  0.579053  0.934975   1.144445  \n",
       "2018.0  0.153972  0.382627  0.663361      NaN  0.445805  0.869887   1.178457  \n",
       "2019.0  0.151237  0.374831  0.646848      NaN  0.394784  0.854586   1.138943  \n",
       "2020.0  0.161015  0.317291  0.549090      NaN  0.354310  0.776776   1.034020  "
      ]
     },
     "execution_count": 8,
     "metadata": {},
     "output_type": "execute_result"
    }
   ],
   "source": [
    "# generate new data set\n",
    "ndata = (data.groupby('YEAR').sum()/ data.groupby('YEAR').count())\n",
    "ndata"
   ]
  },
  {
   "cell_type": "code",
   "execution_count": 9,
   "id": "academic-pottery",
   "metadata": {},
   "outputs": [
    {
     "data": {
      "text/html": [
       "<div>\n",
       "<style scoped>\n",
       "    .dataframe tbody tr th:only-of-type {\n",
       "        vertical-align: middle;\n",
       "    }\n",
       "\n",
       "    .dataframe tbody tr th {\n",
       "        vertical-align: top;\n",
       "    }\n",
       "\n",
       "    .dataframe thead th {\n",
       "        text-align: right;\n",
       "    }\n",
       "</style>\n",
       "<table border=\"1\" class=\"dataframe\">\n",
       "  <thead>\n",
       "    <tr style=\"text-align: right;\">\n",
       "      <th></th>\n",
       "      <th>SO2_CONC</th>\n",
       "      <th>SO4_CONC</th>\n",
       "      <th>NO3_CONC</th>\n",
       "      <th>HNO3_CONC</th>\n",
       "      <th>TNO3_CONC</th>\n",
       "      <th>NH4_CONC</th>\n",
       "      <th>CA_CONC</th>\n",
       "      <th>NA_CONC</th>\n",
       "      <th>MG_CONC</th>\n",
       "      <th>K_CONC</th>\n",
       "      <th>CL_CONC</th>\n",
       "    </tr>\n",
       "    <tr>\n",
       "      <th>YEAR</th>\n",
       "      <th></th>\n",
       "      <th></th>\n",
       "      <th></th>\n",
       "      <th></th>\n",
       "      <th></th>\n",
       "      <th></th>\n",
       "      <th></th>\n",
       "      <th></th>\n",
       "      <th></th>\n",
       "      <th></th>\n",
       "      <th></th>\n",
       "    </tr>\n",
       "  </thead>\n",
       "  <tbody>\n",
       "    <tr>\n",
       "      <th>2001.0</th>\n",
       "      <td>1.856680</td>\n",
       "      <td>3.110840</td>\n",
       "      <td>1.679640</td>\n",
       "      <td>0.452320</td>\n",
       "      <td>2.124680</td>\n",
       "      <td>0.547720</td>\n",
       "      <td>0.308000</td>\n",
       "      <td>3.426720</td>\n",
       "      <td>0.452080</td>\n",
       "      <td>0.188880</td>\n",
       "      <td>5.660880</td>\n",
       "    </tr>\n",
       "    <tr>\n",
       "      <th>2002.0</th>\n",
       "      <td>1.809569</td>\n",
       "      <td>3.217961</td>\n",
       "      <td>2.049471</td>\n",
       "      <td>0.639000</td>\n",
       "      <td>2.678255</td>\n",
       "      <td>0.632961</td>\n",
       "      <td>0.298000</td>\n",
       "      <td>2.586000</td>\n",
       "      <td>0.339431</td>\n",
       "      <td>0.159941</td>\n",
       "      <td>3.587255</td>\n",
       "    </tr>\n",
       "    <tr>\n",
       "      <th>2003.0</th>\n",
       "      <td>3.962459</td>\n",
       "      <td>2.767487</td>\n",
       "      <td>0.752774</td>\n",
       "      <td>1.239101</td>\n",
       "      <td>1.972117</td>\n",
       "      <td>0.932700</td>\n",
       "      <td>0.226354</td>\n",
       "      <td>0.192745</td>\n",
       "      <td>0.050750</td>\n",
       "      <td>0.063331</td>\n",
       "      <td>0.199690</td>\n",
       "    </tr>\n",
       "    <tr>\n",
       "      <th>2004.0</th>\n",
       "      <td>3.701672</td>\n",
       "      <td>2.736362</td>\n",
       "      <td>0.843389</td>\n",
       "      <td>1.231054</td>\n",
       "      <td>2.054808</td>\n",
       "      <td>0.955306</td>\n",
       "      <td>0.223886</td>\n",
       "      <td>0.182301</td>\n",
       "      <td>0.047994</td>\n",
       "      <td>0.061376</td>\n",
       "      <td>0.131615</td>\n",
       "    </tr>\n",
       "    <tr>\n",
       "      <th>2005.0</th>\n",
       "      <td>3.784051</td>\n",
       "      <td>3.123658</td>\n",
       "      <td>0.816632</td>\n",
       "      <td>1.341029</td>\n",
       "      <td>2.136304</td>\n",
       "      <td>1.095286</td>\n",
       "      <td>0.244775</td>\n",
       "      <td>0.164697</td>\n",
       "      <td>0.048962</td>\n",
       "      <td>0.062516</td>\n",
       "      <td>0.127577</td>\n",
       "    </tr>\n",
       "    <tr>\n",
       "      <th>2006.0</th>\n",
       "      <td>3.136524</td>\n",
       "      <td>2.643479</td>\n",
       "      <td>0.743060</td>\n",
       "      <td>1.153986</td>\n",
       "      <td>1.878643</td>\n",
       "      <td>0.892787</td>\n",
       "      <td>0.252276</td>\n",
       "      <td>0.160624</td>\n",
       "      <td>0.050073</td>\n",
       "      <td>0.062792</td>\n",
       "      <td>0.121323</td>\n",
       "    </tr>\n",
       "    <tr>\n",
       "      <th>2007.0</th>\n",
       "      <td>2.988294</td>\n",
       "      <td>2.648979</td>\n",
       "      <td>0.821885</td>\n",
       "      <td>1.175604</td>\n",
       "      <td>1.978751</td>\n",
       "      <td>0.938654</td>\n",
       "      <td>0.268248</td>\n",
       "      <td>0.182201</td>\n",
       "      <td>0.053765</td>\n",
       "      <td>0.065364</td>\n",
       "      <td>0.137499</td>\n",
       "    </tr>\n",
       "    <tr>\n",
       "      <th>2008.0</th>\n",
       "      <td>2.575132</td>\n",
       "      <td>2.331923</td>\n",
       "      <td>0.775904</td>\n",
       "      <td>1.019399</td>\n",
       "      <td>1.779034</td>\n",
       "      <td>0.830464</td>\n",
       "      <td>0.250841</td>\n",
       "      <td>0.204687</td>\n",
       "      <td>0.053286</td>\n",
       "      <td>0.068011</td>\n",
       "      <td>0.163453</td>\n",
       "    </tr>\n",
       "    <tr>\n",
       "      <th>2009.0</th>\n",
       "      <td>1.764133</td>\n",
       "      <td>1.940892</td>\n",
       "      <td>0.751007</td>\n",
       "      <td>0.771407</td>\n",
       "      <td>1.510100</td>\n",
       "      <td>0.730108</td>\n",
       "      <td>0.233906</td>\n",
       "      <td>0.175568</td>\n",
       "      <td>0.047313</td>\n",
       "      <td>0.074095</td>\n",
       "      <td>0.148447</td>\n",
       "    </tr>\n",
       "    <tr>\n",
       "      <th>2010.0</th>\n",
       "      <td>1.729852</td>\n",
       "      <td>1.893247</td>\n",
       "      <td>0.803204</td>\n",
       "      <td>0.822359</td>\n",
       "      <td>1.612450</td>\n",
       "      <td>0.738484</td>\n",
       "      <td>0.259213</td>\n",
       "      <td>0.165716</td>\n",
       "      <td>0.049388</td>\n",
       "      <td>0.073070</td>\n",
       "      <td>0.140411</td>\n",
       "    </tr>\n",
       "    <tr>\n",
       "      <th>2011.0</th>\n",
       "      <td>1.394419</td>\n",
       "      <td>1.866216</td>\n",
       "      <td>0.724382</td>\n",
       "      <td>0.801119</td>\n",
       "      <td>1.512604</td>\n",
       "      <td>0.709987</td>\n",
       "      <td>0.242702</td>\n",
       "      <td>0.195772</td>\n",
       "      <td>0.050335</td>\n",
       "      <td>0.064449</td>\n",
       "      <td>0.165434</td>\n",
       "    </tr>\n",
       "    <tr>\n",
       "      <th>2012.0</th>\n",
       "      <td>1.047859</td>\n",
       "      <td>1.584209</td>\n",
       "      <td>0.700162</td>\n",
       "      <td>0.766219</td>\n",
       "      <td>1.453808</td>\n",
       "      <td>0.607268</td>\n",
       "      <td>0.275853</td>\n",
       "      <td>0.177068</td>\n",
       "      <td>0.052257</td>\n",
       "      <td>0.062828</td>\n",
       "      <td>0.159455</td>\n",
       "    </tr>\n",
       "    <tr>\n",
       "      <th>2013.0</th>\n",
       "      <td>0.968012</td>\n",
       "      <td>1.494411</td>\n",
       "      <td>0.685717</td>\n",
       "      <td>0.661960</td>\n",
       "      <td>1.336927</td>\n",
       "      <td>0.587832</td>\n",
       "      <td>0.235448</td>\n",
       "      <td>0.177582</td>\n",
       "      <td>0.046582</td>\n",
       "      <td>0.057105</td>\n",
       "      <td>0.165429</td>\n",
       "    </tr>\n",
       "    <tr>\n",
       "      <th>2014.0</th>\n",
       "      <td>1.044649</td>\n",
       "      <td>1.414442</td>\n",
       "      <td>0.716684</td>\n",
       "      <td>0.634035</td>\n",
       "      <td>1.340587</td>\n",
       "      <td>0.562467</td>\n",
       "      <td>0.257183</td>\n",
       "      <td>0.162409</td>\n",
       "      <td>0.044435</td>\n",
       "      <td>0.056716</td>\n",
       "      <td>0.133904</td>\n",
       "    </tr>\n",
       "    <tr>\n",
       "      <th>2015.0</th>\n",
       "      <td>0.847099</td>\n",
       "      <td>1.192513</td>\n",
       "      <td>0.631988</td>\n",
       "      <td>0.622097</td>\n",
       "      <td>1.244145</td>\n",
       "      <td>0.464320</td>\n",
       "      <td>0.241711</td>\n",
       "      <td>0.168850</td>\n",
       "      <td>0.045638</td>\n",
       "      <td>0.057625</td>\n",
       "      <td>0.161309</td>\n",
       "    </tr>\n",
       "    <tr>\n",
       "      <th>2016.0</th>\n",
       "      <td>0.631840</td>\n",
       "      <td>0.963564</td>\n",
       "      <td>0.586200</td>\n",
       "      <td>0.577623</td>\n",
       "      <td>1.154581</td>\n",
       "      <td>0.385604</td>\n",
       "      <td>0.242683</td>\n",
       "      <td>0.156181</td>\n",
       "      <td>0.042772</td>\n",
       "      <td>0.054283</td>\n",
       "      <td>0.149711</td>\n",
       "    </tr>\n",
       "    <tr>\n",
       "      <th>2017.0</th>\n",
       "      <td>0.579053</td>\n",
       "      <td>0.934975</td>\n",
       "      <td>0.603719</td>\n",
       "      <td>0.549502</td>\n",
       "      <td>1.144445</td>\n",
       "      <td>0.379771</td>\n",
       "      <td>0.266726</td>\n",
       "      <td>0.157502</td>\n",
       "      <td>0.045355</td>\n",
       "      <td>0.060041</td>\n",
       "      <td>0.150799</td>\n",
       "    </tr>\n",
       "    <tr>\n",
       "      <th>2018.0</th>\n",
       "      <td>0.445805</td>\n",
       "      <td>0.869887</td>\n",
       "      <td>0.663361</td>\n",
       "      <td>0.523469</td>\n",
       "      <td>1.178457</td>\n",
       "      <td>0.382627</td>\n",
       "      <td>0.240544</td>\n",
       "      <td>0.153972</td>\n",
       "      <td>0.044193</td>\n",
       "      <td>0.063451</td>\n",
       "      <td>0.146995</td>\n",
       "    </tr>\n",
       "    <tr>\n",
       "      <th>2019.0</th>\n",
       "      <td>0.394784</td>\n",
       "      <td>0.854586</td>\n",
       "      <td>0.646848</td>\n",
       "      <td>0.500087</td>\n",
       "      <td>1.138943</td>\n",
       "      <td>0.374831</td>\n",
       "      <td>0.216048</td>\n",
       "      <td>0.151237</td>\n",
       "      <td>0.041806</td>\n",
       "      <td>0.053359</td>\n",
       "      <td>0.150910</td>\n",
       "    </tr>\n",
       "    <tr>\n",
       "      <th>2020.0</th>\n",
       "      <td>0.354310</td>\n",
       "      <td>0.776776</td>\n",
       "      <td>0.549090</td>\n",
       "      <td>0.492816</td>\n",
       "      <td>1.034020</td>\n",
       "      <td>0.317291</td>\n",
       "      <td>0.251823</td>\n",
       "      <td>0.161015</td>\n",
       "      <td>0.047570</td>\n",
       "      <td>0.063710</td>\n",
       "      <td>0.175413</td>\n",
       "    </tr>\n",
       "  </tbody>\n",
       "</table>\n",
       "</div>"
      ],
      "text/plain": [
       "        SO2_CONC  SO4_CONC  NO3_CONC  HNO3_CONC  TNO3_CONC  NH4_CONC  \\\n",
       "YEAR                                                                   \n",
       "2001.0  1.856680  3.110840  1.679640   0.452320   2.124680  0.547720   \n",
       "2002.0  1.809569  3.217961  2.049471   0.639000   2.678255  0.632961   \n",
       "2003.0  3.962459  2.767487  0.752774   1.239101   1.972117  0.932700   \n",
       "2004.0  3.701672  2.736362  0.843389   1.231054   2.054808  0.955306   \n",
       "2005.0  3.784051  3.123658  0.816632   1.341029   2.136304  1.095286   \n",
       "2006.0  3.136524  2.643479  0.743060   1.153986   1.878643  0.892787   \n",
       "2007.0  2.988294  2.648979  0.821885   1.175604   1.978751  0.938654   \n",
       "2008.0  2.575132  2.331923  0.775904   1.019399   1.779034  0.830464   \n",
       "2009.0  1.764133  1.940892  0.751007   0.771407   1.510100  0.730108   \n",
       "2010.0  1.729852  1.893247  0.803204   0.822359   1.612450  0.738484   \n",
       "2011.0  1.394419  1.866216  0.724382   0.801119   1.512604  0.709987   \n",
       "2012.0  1.047859  1.584209  0.700162   0.766219   1.453808  0.607268   \n",
       "2013.0  0.968012  1.494411  0.685717   0.661960   1.336927  0.587832   \n",
       "2014.0  1.044649  1.414442  0.716684   0.634035   1.340587  0.562467   \n",
       "2015.0  0.847099  1.192513  0.631988   0.622097   1.244145  0.464320   \n",
       "2016.0  0.631840  0.963564  0.586200   0.577623   1.154581  0.385604   \n",
       "2017.0  0.579053  0.934975  0.603719   0.549502   1.144445  0.379771   \n",
       "2018.0  0.445805  0.869887  0.663361   0.523469   1.178457  0.382627   \n",
       "2019.0  0.394784  0.854586  0.646848   0.500087   1.138943  0.374831   \n",
       "2020.0  0.354310  0.776776  0.549090   0.492816   1.034020  0.317291   \n",
       "\n",
       "         CA_CONC   NA_CONC   MG_CONC    K_CONC   CL_CONC  \n",
       "YEAR                                                      \n",
       "2001.0  0.308000  3.426720  0.452080  0.188880  5.660880  \n",
       "2002.0  0.298000  2.586000  0.339431  0.159941  3.587255  \n",
       "2003.0  0.226354  0.192745  0.050750  0.063331  0.199690  \n",
       "2004.0  0.223886  0.182301  0.047994  0.061376  0.131615  \n",
       "2005.0  0.244775  0.164697  0.048962  0.062516  0.127577  \n",
       "2006.0  0.252276  0.160624  0.050073  0.062792  0.121323  \n",
       "2007.0  0.268248  0.182201  0.053765  0.065364  0.137499  \n",
       "2008.0  0.250841  0.204687  0.053286  0.068011  0.163453  \n",
       "2009.0  0.233906  0.175568  0.047313  0.074095  0.148447  \n",
       "2010.0  0.259213  0.165716  0.049388  0.073070  0.140411  \n",
       "2011.0  0.242702  0.195772  0.050335  0.064449  0.165434  \n",
       "2012.0  0.275853  0.177068  0.052257  0.062828  0.159455  \n",
       "2013.0  0.235448  0.177582  0.046582  0.057105  0.165429  \n",
       "2014.0  0.257183  0.162409  0.044435  0.056716  0.133904  \n",
       "2015.0  0.241711  0.168850  0.045638  0.057625  0.161309  \n",
       "2016.0  0.242683  0.156181  0.042772  0.054283  0.149711  \n",
       "2017.0  0.266726  0.157502  0.045355  0.060041  0.150799  \n",
       "2018.0  0.240544  0.153972  0.044193  0.063451  0.146995  \n",
       "2019.0  0.216048  0.151237  0.041806  0.053359  0.150910  \n",
       "2020.0  0.251823  0.161015  0.047570  0.063710  0.175413  "
      ]
     },
     "execution_count": 9,
     "metadata": {},
     "output_type": "execute_result"
    }
   ],
   "source": [
    "# select useful column\n",
    "ndata = ndata[[\"SO2_CONC\",\"SO4_CONC\",\"NO3_CONC\",\"HNO3_CONC\",\"TNO3_CONC\",\"NH4_CONC\",\"CA_CONC\",\"NA_CONC\",\n",
    "                           \"MG_CONC\",\"K_CONC\",\"CL_CONC\"]]\n",
    "ndata"
   ]
  },
  {
   "cell_type": "code",
   "execution_count": 10,
   "id": "legitimate-pixel",
   "metadata": {},
   "outputs": [
    {
     "name": "stderr",
     "output_type": "stream",
     "text": [
      "/Users/xinzefan/opt/anaconda3/envs/DataViz/lib/python3.7/site-packages/ipykernel_launcher.py:6: SettingWithCopyWarning: \n",
      "A value is trying to be set on a copy of a slice from a DataFrame.\n",
      "Try using .loc[row_indexer,col_indexer] = value instead\n",
      "\n",
      "See the caveats in the documentation: https://pandas.pydata.org/pandas-docs/stable/user_guide/indexing.html#returning-a-view-versus-a-copy\n",
      "  \n"
     ]
    }
   ],
   "source": [
    "polution = [\"SO2_CONC\",\"SO4_CONC\",\"NO3_CONC\",\"HNO3_CONC\",\"TNO3_CONC\",\"NH4_CONC\",\"CA_CONC\",\"NA_CONC\",\n",
    "                           \"MG_CONC\",\"K_CONC\",\"CL_CONC\"]\n",
    "res = []\n",
    "for text in data['SITE_ID']:\n",
    "    res.append(text[-3:])\n",
    "data['ID'] = res"
   ]
  },
  {
   "cell_type": "code",
   "execution_count": 11,
   "id": "ultimate-bleeding",
   "metadata": {},
   "outputs": [],
   "source": [
    "x_sch = bqplot.LinearScale()\n",
    "y_sch = bqplot.LinearScale()\n",
    "x_axh = bqplot.Axis(scale=x_sch,label = \"site_id\")\n",
    "y_axh = bqplot.Axis(scale=y_sch, label='avg_polution', orientation='vertical')\n",
    "temp = data[data['YEAR'] == str('2005.0')]\n",
    "sn = (temp.groupby('ID')[polution[0]].sum()/temp.groupby('ID')[polution[0]].count()).reset_index(name='avg_polution')\n",
    "bar = bqplot.marks.Bars(x=sn['ID'], y=sn['avg_polution'] , scales={'x': x_sch, 'y': y_sch},\n",
    "             colors=['red'])\n",
    "figh = bqplot.Figure(marks=[bar], axes=[x_axh, y_axh])"
   ]
  },
  {
   "cell_type": "code",
   "execution_count": 12,
   "id": "lyric-protein",
   "metadata": {
    "scrolled": true
   },
   "outputs": [
    {
     "data": {
      "application/vnd.jupyter.widget-view+json": {
       "model_id": "ef19f10d6edf4218a7240a0391c07e97",
       "version_major": 2,
       "version_minor": 0
      },
      "text/plain": [
       "VBox(children=(Label(value=''), HBox(children=(Figure(axes=[ColorAxis(orientation='vertical', scale=ColorScale…"
      ]
     },
     "metadata": {},
     "output_type": "display_data"
    }
   ],
   "source": [
    "mySelectedLabel = ipywidgets.Label()\n",
    "#### plot part same as the steps in class\n",
    "x_sc = bqplot.OrdinalScale() # categorical data\n",
    "y_sc = bqplot.OrdinalScale()\n",
    "col_sc = bqplot.ColorScale(scheme='Reds')\n",
    "\n",
    "# 3. Axes\n",
    "ax_x = bqplot.Axis(scale=x_sc)\n",
    "ax_y = bqplot.Axis(scale=y_sc, orientation='vertical')\n",
    "ax_col = bqplot.ColorAxis(scale=col_sc, orientation='vertical', side='right') \n",
    "heat_map = bqplot.GridHeatMap(color = np.array(ndata),\n",
    "                             scales={'color':col_sc, 'row':y_sc, 'column':x_sc},\n",
    "                             interactions={'click':'select'}, \n",
    "                             anchor_style={'fill':'blue'}, \n",
    "                             selected_style={'opacity':1.0}, \n",
    "                             unselected_style={'opacity':0.8}) \n",
    "\n",
    "def on_selected(change):\n",
    "    if len(change['owner'].selected) == 1: \n",
    "        j,i = change['owner'].selected[0]\n",
    "        v = ndata.iloc[j,i]\n",
    "        # print the important information\n",
    "        mySelectedLabel.value = \"The average \" + polution[i] + \" polution in year \" + str(2001 + j) + \" is: \"+ str(v)\n",
    "        temp = data[data['YEAR'] == str(2001 + j)+'.0']\n",
    "        sn = (temp.groupby('ID')[polution[i]].sum()/temp.groupby('ID')[polution[i]].count()).reset_index(name='avg_polution')\n",
    "        bar.x = sn['ID']\n",
    "        bar.y = sn['avg_polution']\n",
    "\n",
    "heat_map.observe(on_selected,'selected')\n",
    "\n",
    "fig = bqplot.Figure(marks=[heat_map], axes=[ax_col, ax_x, ax_y])\n",
    "fig.layout.min_width='800px'\n",
    "figh.layout.min_width='800px'\n",
    "figures = ipywidgets.HBox([fig,figh])\n",
    "myDashboard = ipywidgets.VBox([mySelectedLabel, figures])\n",
    "\n",
    "myDashboard"
   ]
  },
  {
   "cell_type": "markdown",
   "id": "deadly-needle",
   "metadata": {},
   "source": [
    "## Third interact with state information\n",
    "- connect the site_id with the state it belongs to.\n",
    "- in this graph, user will able to select the specific year and specific polution, and the result will shows how the polution distributed by different states. "
   ]
  },
  {
   "cell_type": "code",
   "execution_count": 13,
   "id": "intimate-stereo",
   "metadata": {},
   "outputs": [
    {
     "data": {
      "text/html": [
       "<div>\n",
       "<style scoped>\n",
       "    .dataframe tbody tr th:only-of-type {\n",
       "        vertical-align: middle;\n",
       "    }\n",
       "\n",
       "    .dataframe tbody tr th {\n",
       "        vertical-align: top;\n",
       "    }\n",
       "\n",
       "    .dataframe thead th {\n",
       "        text-align: right;\n",
       "    }\n",
       "</style>\n",
       "<table border=\"1\" class=\"dataframe\">\n",
       "  <thead>\n",
       "    <tr style=\"text-align: right;\">\n",
       "      <th></th>\n",
       "      <th>SITE_ID</th>\n",
       "      <th>YEAR</th>\n",
       "      <th>DATEON</th>\n",
       "      <th>DATEOFF</th>\n",
       "      <th>SO2_CONC</th>\n",
       "      <th>SO4_CONC</th>\n",
       "      <th>NO3_CONC</th>\n",
       "      <th>HNO3_CONC</th>\n",
       "      <th>TNO3_CONC</th>\n",
       "      <th>NH4_CONC</th>\n",
       "      <th>CA_CONC</th>\n",
       "      <th>NA_CONC</th>\n",
       "      <th>MG_CONC</th>\n",
       "      <th>K_CONC</th>\n",
       "      <th>CL_CONC</th>\n",
       "      <th>ID</th>\n",
       "    </tr>\n",
       "  </thead>\n",
       "  <tbody>\n",
       "    <tr>\n",
       "      <th>18</th>\n",
       "      <td>SND152</td>\n",
       "      <td>2005.0</td>\n",
       "      <td>03/08/2005 09:00:00</td>\n",
       "      <td>03/15/2005 08:00:00</td>\n",
       "      <td>3.917</td>\n",
       "      <td>2.154</td>\n",
       "      <td>1.487</td>\n",
       "      <td>1.501</td>\n",
       "      <td>2.965</td>\n",
       "      <td>1.116</td>\n",
       "      <td>0.263</td>\n",
       "      <td>0.053</td>\n",
       "      <td>0.030</td>\n",
       "      <td>0.066</td>\n",
       "      <td>0.034</td>\n",
       "      <td>152</td>\n",
       "    </tr>\n",
       "    <tr>\n",
       "      <th>64</th>\n",
       "      <td>SND152</td>\n",
       "      <td>2005.0</td>\n",
       "      <td>03/29/2005 09:00:00</td>\n",
       "      <td>04/05/2005 08:00:00</td>\n",
       "      <td>4.860</td>\n",
       "      <td>2.217</td>\n",
       "      <td>0.562</td>\n",
       "      <td>2.025</td>\n",
       "      <td>2.555</td>\n",
       "      <td>0.873</td>\n",
       "      <td>0.187</td>\n",
       "      <td>0.091</td>\n",
       "      <td>0.032</td>\n",
       "      <td>0.073</td>\n",
       "      <td>0.033</td>\n",
       "      <td>152</td>\n",
       "    </tr>\n",
       "    <tr>\n",
       "      <th>65</th>\n",
       "      <td>SND152</td>\n",
       "      <td>2005.0</td>\n",
       "      <td>03/15/2005 09:00:00</td>\n",
       "      <td>03/22/2005 08:00:00</td>\n",
       "      <td>6.511</td>\n",
       "      <td>4.830</td>\n",
       "      <td>2.776</td>\n",
       "      <td>1.549</td>\n",
       "      <td>4.300</td>\n",
       "      <td>2.470</td>\n",
       "      <td>0.166</td>\n",
       "      <td>0.040</td>\n",
       "      <td>0.023</td>\n",
       "      <td>0.065</td>\n",
       "      <td>0.034</td>\n",
       "      <td>152</td>\n",
       "    </tr>\n",
       "    <tr>\n",
       "      <th>66</th>\n",
       "      <td>SND152</td>\n",
       "      <td>2005.0</td>\n",
       "      <td>03/22/2005 09:00:00</td>\n",
       "      <td>03/29/2005 08:00:00</td>\n",
       "      <td>4.011</td>\n",
       "      <td>3.867</td>\n",
       "      <td>1.176</td>\n",
       "      <td>2.364</td>\n",
       "      <td>3.502</td>\n",
       "      <td>1.795</td>\n",
       "      <td>0.164</td>\n",
       "      <td>0.044</td>\n",
       "      <td>0.020</td>\n",
       "      <td>0.075</td>\n",
       "      <td>0.033</td>\n",
       "      <td>152</td>\n",
       "    </tr>\n",
       "    <tr>\n",
       "      <th>80</th>\n",
       "      <td>SND152</td>\n",
       "      <td>2005.0</td>\n",
       "      <td>03/01/2005 09:00:00</td>\n",
       "      <td>03/08/2005 08:00:00</td>\n",
       "      <td>4.313</td>\n",
       "      <td>2.287</td>\n",
       "      <td>2.666</td>\n",
       "      <td>1.021</td>\n",
       "      <td>3.671</td>\n",
       "      <td>1.527</td>\n",
       "      <td>0.251</td>\n",
       "      <td>0.031</td>\n",
       "      <td>0.032</td>\n",
       "      <td>0.075</td>\n",
       "      <td>0.036</td>\n",
       "      <td>152</td>\n",
       "    </tr>\n",
       "    <tr>\n",
       "      <th>...</th>\n",
       "      <td>...</td>\n",
       "      <td>...</td>\n",
       "      <td>...</td>\n",
       "      <td>...</td>\n",
       "      <td>...</td>\n",
       "      <td>...</td>\n",
       "      <td>...</td>\n",
       "      <td>...</td>\n",
       "      <td>...</td>\n",
       "      <td>...</td>\n",
       "      <td>...</td>\n",
       "      <td>...</td>\n",
       "      <td>...</td>\n",
       "      <td>...</td>\n",
       "      <td>...</td>\n",
       "      <td>...</td>\n",
       "    </tr>\n",
       "    <tr>\n",
       "      <th>94554</th>\n",
       "      <td>YEL408</td>\n",
       "      <td>2005.0</td>\n",
       "      <td>02/22/2005 09:00:00</td>\n",
       "      <td>03/01/2005 08:00:00</td>\n",
       "      <td>4.879</td>\n",
       "      <td>0.357</td>\n",
       "      <td>0.262</td>\n",
       "      <td>0.100</td>\n",
       "      <td>0.361</td>\n",
       "      <td>0.181</td>\n",
       "      <td>0.076</td>\n",
       "      <td>0.014</td>\n",
       "      <td>0.011</td>\n",
       "      <td>0.014</td>\n",
       "      <td>0.016</td>\n",
       "      <td>408</td>\n",
       "    </tr>\n",
       "    <tr>\n",
       "      <th>94721</th>\n",
       "      <td>DEN417</td>\n",
       "      <td>2005.0</td>\n",
       "      <td>02/15/2005 09:00:00</td>\n",
       "      <td>02/22/2005 08:00:00</td>\n",
       "      <td>0.310</td>\n",
       "      <td>0.221</td>\n",
       "      <td>0.071</td>\n",
       "      <td>0.031</td>\n",
       "      <td>0.102</td>\n",
       "      <td>0.055</td>\n",
       "      <td>0.014</td>\n",
       "      <td>0.078</td>\n",
       "      <td>0.011</td>\n",
       "      <td>0.006</td>\n",
       "      <td>0.115</td>\n",
       "      <td>417</td>\n",
       "    </tr>\n",
       "    <tr>\n",
       "      <th>94742</th>\n",
       "      <td>DEN417</td>\n",
       "      <td>2005.0</td>\n",
       "      <td>02/01/2005 09:00:00</td>\n",
       "      <td>02/08/2005 08:00:00</td>\n",
       "      <td>0.440</td>\n",
       "      <td>0.207</td>\n",
       "      <td>0.066</td>\n",
       "      <td>0.036</td>\n",
       "      <td>0.102</td>\n",
       "      <td>0.048</td>\n",
       "      <td>0.012</td>\n",
       "      <td>0.048</td>\n",
       "      <td>0.008</td>\n",
       "      <td>0.007</td>\n",
       "      <td>0.061</td>\n",
       "      <td>417</td>\n",
       "    </tr>\n",
       "    <tr>\n",
       "      <th>94754</th>\n",
       "      <td>DEN417</td>\n",
       "      <td>2005.0</td>\n",
       "      <td>02/22/2005 09:00:00</td>\n",
       "      <td>03/01/2005 08:00:00</td>\n",
       "      <td>0.592</td>\n",
       "      <td>0.181</td>\n",
       "      <td>0.055</td>\n",
       "      <td>0.077</td>\n",
       "      <td>0.131</td>\n",
       "      <td>0.054</td>\n",
       "      <td>0.015</td>\n",
       "      <td>0.025</td>\n",
       "      <td>0.005</td>\n",
       "      <td>0.004</td>\n",
       "      <td>0.023</td>\n",
       "      <td>417</td>\n",
       "    </tr>\n",
       "    <tr>\n",
       "      <th>94755</th>\n",
       "      <td>DEN417</td>\n",
       "      <td>2005.0</td>\n",
       "      <td>02/08/2005 09:00:00</td>\n",
       "      <td>02/15/2005 08:00:00</td>\n",
       "      <td>0.732</td>\n",
       "      <td>0.429</td>\n",
       "      <td>0.081</td>\n",
       "      <td>0.046</td>\n",
       "      <td>0.126</td>\n",
       "      <td>0.111</td>\n",
       "      <td>0.024</td>\n",
       "      <td>0.100</td>\n",
       "      <td>0.020</td>\n",
       "      <td>0.009</td>\n",
       "      <td>0.148</td>\n",
       "      <td>417</td>\n",
       "    </tr>\n",
       "  </tbody>\n",
       "</table>\n",
       "<p>4169 rows × 16 columns</p>\n",
       "</div>"
      ],
      "text/plain": [
       "      SITE_ID    YEAR               DATEON              DATEOFF  SO2_CONC  \\\n",
       "18     SND152  2005.0  03/08/2005 09:00:00  03/15/2005 08:00:00     3.917   \n",
       "64     SND152  2005.0  03/29/2005 09:00:00  04/05/2005 08:00:00     4.860   \n",
       "65     SND152  2005.0  03/15/2005 09:00:00  03/22/2005 08:00:00     6.511   \n",
       "66     SND152  2005.0  03/22/2005 09:00:00  03/29/2005 08:00:00     4.011   \n",
       "80     SND152  2005.0  03/01/2005 09:00:00  03/08/2005 08:00:00     4.313   \n",
       "...       ...     ...                  ...                  ...       ...   \n",
       "94554  YEL408  2005.0  02/22/2005 09:00:00  03/01/2005 08:00:00     4.879   \n",
       "94721  DEN417  2005.0  02/15/2005 09:00:00  02/22/2005 08:00:00     0.310   \n",
       "94742  DEN417  2005.0  02/01/2005 09:00:00  02/08/2005 08:00:00     0.440   \n",
       "94754  DEN417  2005.0  02/22/2005 09:00:00  03/01/2005 08:00:00     0.592   \n",
       "94755  DEN417  2005.0  02/08/2005 09:00:00  02/15/2005 08:00:00     0.732   \n",
       "\n",
       "       SO4_CONC  NO3_CONC  HNO3_CONC  TNO3_CONC  NH4_CONC  CA_CONC  NA_CONC  \\\n",
       "18        2.154     1.487      1.501      2.965     1.116    0.263    0.053   \n",
       "64        2.217     0.562      2.025      2.555     0.873    0.187    0.091   \n",
       "65        4.830     2.776      1.549      4.300     2.470    0.166    0.040   \n",
       "66        3.867     1.176      2.364      3.502     1.795    0.164    0.044   \n",
       "80        2.287     2.666      1.021      3.671     1.527    0.251    0.031   \n",
       "...         ...       ...        ...        ...       ...      ...      ...   \n",
       "94554     0.357     0.262      0.100      0.361     0.181    0.076    0.014   \n",
       "94721     0.221     0.071      0.031      0.102     0.055    0.014    0.078   \n",
       "94742     0.207     0.066      0.036      0.102     0.048    0.012    0.048   \n",
       "94754     0.181     0.055      0.077      0.131     0.054    0.015    0.025   \n",
       "94755     0.429     0.081      0.046      0.126     0.111    0.024    0.100   \n",
       "\n",
       "       MG_CONC  K_CONC  CL_CONC   ID  \n",
       "18       0.030   0.066    0.034  152  \n",
       "64       0.032   0.073    0.033  152  \n",
       "65       0.023   0.065    0.034  152  \n",
       "66       0.020   0.075    0.033  152  \n",
       "80       0.032   0.075    0.036  152  \n",
       "...        ...     ...      ...  ...  \n",
       "94554    0.011   0.014    0.016  408  \n",
       "94721    0.011   0.006    0.115  417  \n",
       "94742    0.008   0.007    0.061  417  \n",
       "94754    0.005   0.004    0.023  417  \n",
       "94755    0.020   0.009    0.148  417  \n",
       "\n",
       "[4169 rows x 16 columns]"
      ]
     },
     "execution_count": 13,
     "metadata": {},
     "output_type": "execute_result"
    }
   ],
   "source": [
    "temp"
   ]
  },
  {
   "cell_type": "code",
   "execution_count": 14,
   "id": "focused-effort",
   "metadata": {},
   "outputs": [],
   "source": [
    "site = pd.read_csv(\"Site.csv\")"
   ]
  },
  {
   "cell_type": "code",
   "execution_count": 15,
   "id": "derived-lesson",
   "metadata": {},
   "outputs": [
    {
     "data": {
      "text/html": [
       "<div>\n",
       "<style scoped>\n",
       "    .dataframe tbody tr th:only-of-type {\n",
       "        vertical-align: middle;\n",
       "    }\n",
       "\n",
       "    .dataframe tbody tr th {\n",
       "        vertical-align: top;\n",
       "    }\n",
       "\n",
       "    .dataframe thead th {\n",
       "        text-align: right;\n",
       "    }\n",
       "</style>\n",
       "<table border=\"1\" class=\"dataframe\">\n",
       "  <thead>\n",
       "    <tr style=\"text-align: right;\">\n",
       "      <th></th>\n",
       "      <th>SITE_ID</th>\n",
       "      <th>STATE</th>\n",
       "    </tr>\n",
       "  </thead>\n",
       "  <tbody>\n",
       "    <tr>\n",
       "      <th>0</th>\n",
       "      <td>JOT403</td>\n",
       "      <td>CA</td>\n",
       "    </tr>\n",
       "    <tr>\n",
       "      <th>1</th>\n",
       "      <td>LYK123</td>\n",
       "      <td>OH</td>\n",
       "    </tr>\n",
       "    <tr>\n",
       "      <th>2</th>\n",
       "      <td>WFM105</td>\n",
       "      <td>NY</td>\n",
       "    </tr>\n",
       "    <tr>\n",
       "      <th>3</th>\n",
       "      <td>HOW191</td>\n",
       "      <td>ME</td>\n",
       "    </tr>\n",
       "    <tr>\n",
       "      <th>4</th>\n",
       "      <td>NIC001</td>\n",
       "      <td>NY</td>\n",
       "    </tr>\n",
       "    <tr>\n",
       "      <th>...</th>\n",
       "      <td>...</td>\n",
       "      <td>...</td>\n",
       "    </tr>\n",
       "    <tr>\n",
       "      <th>137</th>\n",
       "      <td>YOS404</td>\n",
       "      <td>CA</td>\n",
       "    </tr>\n",
       "    <tr>\n",
       "      <th>138</th>\n",
       "      <td>ABT147</td>\n",
       "      <td>CT</td>\n",
       "    </tr>\n",
       "    <tr>\n",
       "      <th>139</th>\n",
       "      <td>ALH157</td>\n",
       "      <td>IL</td>\n",
       "    </tr>\n",
       "    <tr>\n",
       "      <th>140</th>\n",
       "      <td>ALH257</td>\n",
       "      <td>IL</td>\n",
       "    </tr>\n",
       "    <tr>\n",
       "      <th>141</th>\n",
       "      <td>ANA115</td>\n",
       "      <td>MI</td>\n",
       "    </tr>\n",
       "  </tbody>\n",
       "</table>\n",
       "<p>142 rows × 2 columns</p>\n",
       "</div>"
      ],
      "text/plain": [
       "    SITE_ID STATE\n",
       "0    JOT403    CA\n",
       "1    LYK123    OH\n",
       "2    WFM105    NY\n",
       "3    HOW191    ME\n",
       "4    NIC001    NY\n",
       "..      ...   ...\n",
       "137  YOS404    CA\n",
       "138  ABT147    CT\n",
       "139  ALH157    IL\n",
       "140  ALH257    IL\n",
       "141  ANA115    MI\n",
       "\n",
       "[142 rows x 2 columns]"
      ]
     },
     "execution_count": 15,
     "metadata": {},
     "output_type": "execute_result"
    }
   ],
   "source": [
    "site = site[[\"SITE_ID\",\"STATE\"]]\n",
    "site"
   ]
  },
  {
   "cell_type": "code",
   "execution_count": 16,
   "id": "mature-minimum",
   "metadata": {
    "scrolled": true
   },
   "outputs": [
    {
     "data": {
      "text/html": [
       "<div>\n",
       "<style scoped>\n",
       "    .dataframe tbody tr th:only-of-type {\n",
       "        vertical-align: middle;\n",
       "    }\n",
       "\n",
       "    .dataframe tbody tr th {\n",
       "        vertical-align: top;\n",
       "    }\n",
       "\n",
       "    .dataframe thead th {\n",
       "        text-align: right;\n",
       "    }\n",
       "</style>\n",
       "<table border=\"1\" class=\"dataframe\">\n",
       "  <thead>\n",
       "    <tr style=\"text-align: right;\">\n",
       "      <th></th>\n",
       "      <th>SITE_ID</th>\n",
       "      <th>YEAR</th>\n",
       "      <th>DATEON</th>\n",
       "      <th>DATEOFF</th>\n",
       "      <th>SO2_CONC</th>\n",
       "      <th>SO4_CONC</th>\n",
       "      <th>NO3_CONC</th>\n",
       "      <th>HNO3_CONC</th>\n",
       "      <th>TNO3_CONC</th>\n",
       "      <th>NH4_CONC</th>\n",
       "      <th>CA_CONC</th>\n",
       "      <th>NA_CONC</th>\n",
       "      <th>MG_CONC</th>\n",
       "      <th>K_CONC</th>\n",
       "      <th>CL_CONC</th>\n",
       "      <th>ID</th>\n",
       "      <th>STATE</th>\n",
       "    </tr>\n",
       "  </thead>\n",
       "  <tbody>\n",
       "    <tr>\n",
       "      <th>0</th>\n",
       "      <td>SND152</td>\n",
       "      <td>2017.0</td>\n",
       "      <td>03/28/2017 09:00:00</td>\n",
       "      <td>04/04/2017 08:00:00</td>\n",
       "      <td>1.055</td>\n",
       "      <td>1.528</td>\n",
       "      <td>0.633</td>\n",
       "      <td>0.736</td>\n",
       "      <td>1.357</td>\n",
       "      <td>0.532</td>\n",
       "      <td>0.166</td>\n",
       "      <td>0.269</td>\n",
       "      <td>0.048</td>\n",
       "      <td>0.111</td>\n",
       "      <td>0.033</td>\n",
       "      <td>152</td>\n",
       "      <td>AL</td>\n",
       "    </tr>\n",
       "    <tr>\n",
       "      <th>1</th>\n",
       "      <td>SND152</td>\n",
       "      <td>2016.0</td>\n",
       "      <td>03/29/2016 09:00:00</td>\n",
       "      <td>04/05/2016 08:00:00</td>\n",
       "      <td>0.667</td>\n",
       "      <td>1.036</td>\n",
       "      <td>0.401</td>\n",
       "      <td>0.632</td>\n",
       "      <td>1.023</td>\n",
       "      <td>0.466</td>\n",
       "      <td>0.228</td>\n",
       "      <td>0.087</td>\n",
       "      <td>0.032</td>\n",
       "      <td>0.074</td>\n",
       "      <td>0.033</td>\n",
       "      <td>152</td>\n",
       "      <td>AL</td>\n",
       "    </tr>\n",
       "    <tr>\n",
       "      <th>2</th>\n",
       "      <td>SND152</td>\n",
       "      <td>2005.0</td>\n",
       "      <td>03/08/2005 09:00:00</td>\n",
       "      <td>03/15/2005 08:00:00</td>\n",
       "      <td>3.917</td>\n",
       "      <td>2.154</td>\n",
       "      <td>1.487</td>\n",
       "      <td>1.501</td>\n",
       "      <td>2.965</td>\n",
       "      <td>1.116</td>\n",
       "      <td>0.263</td>\n",
       "      <td>0.053</td>\n",
       "      <td>0.030</td>\n",
       "      <td>0.066</td>\n",
       "      <td>0.034</td>\n",
       "      <td>152</td>\n",
       "      <td>AL</td>\n",
       "    </tr>\n",
       "    <tr>\n",
       "      <th>3</th>\n",
       "      <td>SND152</td>\n",
       "      <td>2008.0</td>\n",
       "      <td>03/11/2008 09:00:00</td>\n",
       "      <td>03/18/2008 08:00:00</td>\n",
       "      <td>4.969</td>\n",
       "      <td>3.826</td>\n",
       "      <td>1.071</td>\n",
       "      <td>1.973</td>\n",
       "      <td>3.013</td>\n",
       "      <td>1.539</td>\n",
       "      <td>0.227</td>\n",
       "      <td>0.109</td>\n",
       "      <td>0.034</td>\n",
       "      <td>0.075</td>\n",
       "      <td>0.040</td>\n",
       "      <td>152</td>\n",
       "      <td>AL</td>\n",
       "    </tr>\n",
       "    <tr>\n",
       "      <th>4</th>\n",
       "      <td>SND152</td>\n",
       "      <td>2008.0</td>\n",
       "      <td>03/25/2008 09:00:00</td>\n",
       "      <td>04/01/2008 08:00:00</td>\n",
       "      <td>4.477</td>\n",
       "      <td>5.975</td>\n",
       "      <td>2.372</td>\n",
       "      <td>1.241</td>\n",
       "      <td>3.593</td>\n",
       "      <td>2.453</td>\n",
       "      <td>0.264</td>\n",
       "      <td>0.396</td>\n",
       "      <td>0.076</td>\n",
       "      <td>0.091</td>\n",
       "      <td>0.237</td>\n",
       "      <td>152</td>\n",
       "      <td>AL</td>\n",
       "    </tr>\n",
       "    <tr>\n",
       "      <th>...</th>\n",
       "      <td>...</td>\n",
       "      <td>...</td>\n",
       "      <td>...</td>\n",
       "      <td>...</td>\n",
       "      <td>...</td>\n",
       "      <td>...</td>\n",
       "      <td>...</td>\n",
       "      <td>...</td>\n",
       "      <td>...</td>\n",
       "      <td>...</td>\n",
       "      <td>...</td>\n",
       "      <td>...</td>\n",
       "      <td>...</td>\n",
       "      <td>...</td>\n",
       "      <td>...</td>\n",
       "      <td>...</td>\n",
       "      <td>...</td>\n",
       "    </tr>\n",
       "    <tr>\n",
       "      <th>77074</th>\n",
       "      <td>DEN417</td>\n",
       "      <td>2004.0</td>\n",
       "      <td>02/03/2004 09:00:00</td>\n",
       "      <td>02/10/2004 08:00:00</td>\n",
       "      <td>0.660</td>\n",
       "      <td>0.272</td>\n",
       "      <td>0.091</td>\n",
       "      <td>0.042</td>\n",
       "      <td>0.132</td>\n",
       "      <td>0.053</td>\n",
       "      <td>0.016</td>\n",
       "      <td>0.220</td>\n",
       "      <td>0.026</td>\n",
       "      <td>0.012</td>\n",
       "      <td>0.386</td>\n",
       "      <td>417</td>\n",
       "      <td>AK</td>\n",
       "    </tr>\n",
       "    <tr>\n",
       "      <th>77075</th>\n",
       "      <td>DEN417</td>\n",
       "      <td>2017.0</td>\n",
       "      <td>02/14/2017 09:00:00</td>\n",
       "      <td>02/21/2017 08:00:00</td>\n",
       "      <td>0.601</td>\n",
       "      <td>0.412</td>\n",
       "      <td>0.096</td>\n",
       "      <td>0.034</td>\n",
       "      <td>0.130</td>\n",
       "      <td>0.119</td>\n",
       "      <td>0.019</td>\n",
       "      <td>0.121</td>\n",
       "      <td>0.025</td>\n",
       "      <td>0.015</td>\n",
       "      <td>0.151</td>\n",
       "      <td>417</td>\n",
       "      <td>AK</td>\n",
       "    </tr>\n",
       "    <tr>\n",
       "      <th>77076</th>\n",
       "      <td>DEN417</td>\n",
       "      <td>2007.0</td>\n",
       "      <td>02/27/2007 09:00:00</td>\n",
       "      <td>03/06/2007 08:00:00</td>\n",
       "      <td>1.297</td>\n",
       "      <td>0.877</td>\n",
       "      <td>0.200</td>\n",
       "      <td>0.088</td>\n",
       "      <td>0.286</td>\n",
       "      <td>0.200</td>\n",
       "      <td>0.023</td>\n",
       "      <td>0.101</td>\n",
       "      <td>0.019</td>\n",
       "      <td>0.015</td>\n",
       "      <td>0.022</td>\n",
       "      <td>417</td>\n",
       "      <td>AK</td>\n",
       "    </tr>\n",
       "    <tr>\n",
       "      <th>77077</th>\n",
       "      <td>DEN417</td>\n",
       "      <td>2011.0</td>\n",
       "      <td>02/22/2011 09:00:00</td>\n",
       "      <td>03/01/2011 08:00:00</td>\n",
       "      <td>0.705</td>\n",
       "      <td>0.676</td>\n",
       "      <td>0.113</td>\n",
       "      <td>0.033</td>\n",
       "      <td>0.145</td>\n",
       "      <td>0.176</td>\n",
       "      <td>0.033</td>\n",
       "      <td>0.196</td>\n",
       "      <td>0.033</td>\n",
       "      <td>0.020</td>\n",
       "      <td>0.240</td>\n",
       "      <td>417</td>\n",
       "      <td>AK</td>\n",
       "    </tr>\n",
       "    <tr>\n",
       "      <th>77078</th>\n",
       "      <td>DEN417</td>\n",
       "      <td>2015.0</td>\n",
       "      <td>02/17/2015 09:00:00</td>\n",
       "      <td>02/24/2015 08:00:00</td>\n",
       "      <td>0.383</td>\n",
       "      <td>0.227</td>\n",
       "      <td>0.053</td>\n",
       "      <td>0.033</td>\n",
       "      <td>0.085</td>\n",
       "      <td>0.076</td>\n",
       "      <td>0.013</td>\n",
       "      <td>0.049</td>\n",
       "      <td>0.007</td>\n",
       "      <td>0.005</td>\n",
       "      <td>0.049</td>\n",
       "      <td>417</td>\n",
       "      <td>AK</td>\n",
       "    </tr>\n",
       "  </tbody>\n",
       "</table>\n",
       "<p>77079 rows × 17 columns</p>\n",
       "</div>"
      ],
      "text/plain": [
       "      SITE_ID    YEAR               DATEON              DATEOFF  SO2_CONC  \\\n",
       "0      SND152  2017.0  03/28/2017 09:00:00  04/04/2017 08:00:00     1.055   \n",
       "1      SND152  2016.0  03/29/2016 09:00:00  04/05/2016 08:00:00     0.667   \n",
       "2      SND152  2005.0  03/08/2005 09:00:00  03/15/2005 08:00:00     3.917   \n",
       "3      SND152  2008.0  03/11/2008 09:00:00  03/18/2008 08:00:00     4.969   \n",
       "4      SND152  2008.0  03/25/2008 09:00:00  04/01/2008 08:00:00     4.477   \n",
       "...       ...     ...                  ...                  ...       ...   \n",
       "77074  DEN417  2004.0  02/03/2004 09:00:00  02/10/2004 08:00:00     0.660   \n",
       "77075  DEN417  2017.0  02/14/2017 09:00:00  02/21/2017 08:00:00     0.601   \n",
       "77076  DEN417  2007.0  02/27/2007 09:00:00  03/06/2007 08:00:00     1.297   \n",
       "77077  DEN417  2011.0  02/22/2011 09:00:00  03/01/2011 08:00:00     0.705   \n",
       "77078  DEN417  2015.0  02/17/2015 09:00:00  02/24/2015 08:00:00     0.383   \n",
       "\n",
       "       SO4_CONC  NO3_CONC  HNO3_CONC  TNO3_CONC  NH4_CONC  CA_CONC  NA_CONC  \\\n",
       "0         1.528     0.633      0.736      1.357     0.532    0.166    0.269   \n",
       "1         1.036     0.401      0.632      1.023     0.466    0.228    0.087   \n",
       "2         2.154     1.487      1.501      2.965     1.116    0.263    0.053   \n",
       "3         3.826     1.071      1.973      3.013     1.539    0.227    0.109   \n",
       "4         5.975     2.372      1.241      3.593     2.453    0.264    0.396   \n",
       "...         ...       ...        ...        ...       ...      ...      ...   \n",
       "77074     0.272     0.091      0.042      0.132     0.053    0.016    0.220   \n",
       "77075     0.412     0.096      0.034      0.130     0.119    0.019    0.121   \n",
       "77076     0.877     0.200      0.088      0.286     0.200    0.023    0.101   \n",
       "77077     0.676     0.113      0.033      0.145     0.176    0.033    0.196   \n",
       "77078     0.227     0.053      0.033      0.085     0.076    0.013    0.049   \n",
       "\n",
       "       MG_CONC  K_CONC  CL_CONC   ID STATE  \n",
       "0        0.048   0.111    0.033  152    AL  \n",
       "1        0.032   0.074    0.033  152    AL  \n",
       "2        0.030   0.066    0.034  152    AL  \n",
       "3        0.034   0.075    0.040  152    AL  \n",
       "4        0.076   0.091    0.237  152    AL  \n",
       "...        ...     ...      ...  ...   ...  \n",
       "77074    0.026   0.012    0.386  417    AK  \n",
       "77075    0.025   0.015    0.151  417    AK  \n",
       "77076    0.019   0.015    0.022  417    AK  \n",
       "77077    0.033   0.020    0.240  417    AK  \n",
       "77078    0.007   0.005    0.049  417    AK  \n",
       "\n",
       "[77079 rows x 17 columns]"
      ]
     },
     "execution_count": 16,
     "metadata": {},
     "output_type": "execute_result"
    }
   ],
   "source": [
    "new = data.merge(site, on='SITE_ID', how='left')\n",
    "new"
   ]
  },
  {
   "cell_type": "code",
   "execution_count": 17,
   "id": "exotic-senate",
   "metadata": {},
   "outputs": [
    {
     "data": {
      "application/vnd.jupyter.widget-view+json": {
       "model_id": "d365071aee5d4eadb025b72ab6780339",
       "version_major": 2,
       "version_minor": 0
      },
      "text/plain": [
       "interactive(children=(Dropdown(description='xf', options=('SO2_CONC', 'SO4_CONC', 'NO3_CONC', 'HNO3_CONC', 'TN…"
      ]
     },
     "metadata": {},
     "output_type": "display_data"
    }
   ],
   "source": [
    "years = new['YEAR'].unique().tolist()\n",
    "@ipywidgets.interact(xf = [\"SO2_CONC\",\"SO4_CONC\",\"NO3_CONC\",\"HNO3_CONC\",\"TNO3_CONC\",\"NH4_CONC\",\"CA_CONC\",\"NA_CONC\",\n",
    "                           \"MG_CONC\",\"K_CONC\",\"CL_CONC\"],\n",
    "                     yf = years)\n",
    "def a4plot2(xf,yf):\n",
    "    temp = new[new['YEAR'] == yf]\n",
    "    temp = temp[['STATE',xf]]\n",
    "    (temp.groupby('STATE')[xf].sum()/temp.groupby('STATE')[xf].count()).plot(kind='bar')\n",
    "\n"
   ]
  },
  {
   "cell_type": "markdown",
   "id": "healthy-labor",
   "metadata": {},
   "source": [
    "## Prose\n",
    "- About the dataset: This data set contains the different air polution data from year 2001 to year 2020. There are total 11 types of different air polution which were oberved weekly by the observation sites which have unique SITE_ID\n",
    "- The first interaction is base on the overview of the entire dataset. This dashboad enable user select the different air polution as the x_axis and the year or site_id as the y_axis. The scatter plot enable the user to see how the polution amount distrubuted(for different site or year, the min,max or the majority amount).\n",
    "- The second interact is a heatmap which also with the click effect. The x_axis indicates the different type of polution and the y_axis means the year. The hearmap shows the average polution amount between types and years. Since the label are numerical, click on the map will given the detail on the top label. For example, the (0,0) indicates the year 2001, SO2 polution's average amount is 1.85668. Also the left side interactive will provide a new related histgram which shows the distribution of the specific year and polution according to the site_id.\n",
    "- The third interact is enable the user to select the year and the polution name. The result plot is a bar plot which shows the average amount of that type of polution for each state.\n",
    "- The contextual datasets will be concerned is the Site information which is able to be download from the same website:https://java.epa.gov/castnet/timeframeselect.do by click on the \"Factural Data\" and select the site box. This data contain the information about which State the Site belongs to. Thus, in the final story, we will be able to see the data base on the different states. "
   ]
  },
  {
   "cell_type": "code",
   "execution_count": null,
   "id": "higher-absolute",
   "metadata": {},
   "outputs": [],
   "source": []
  }
 ],
 "metadata": {
  "kernelspec": {
   "display_name": "Python 3",
   "language": "python",
   "name": "python3"
  },
  "language_info": {
   "codemirror_mode": {
    "name": "ipython",
    "version": 3
   },
   "file_extension": ".py",
   "mimetype": "text/x-python",
   "name": "python",
   "nbconvert_exporter": "python",
   "pygments_lexer": "ipython3",
   "version": "3.7.9"
  },
  "widgets": {
   "application/vnd.jupyter.widget-state+json": {
    "state": {
     "02f582ff78034b6982d24b99c8e12730": {
      "model_module": "@jupyter-widgets/base",
      "model_module_version": "1.2.0",
      "model_name": "LayoutModel",
      "state": {
       "min_width": "800px"
      }
     },
     "047a6a9dfc7e4acaa6b5c4001848fac4": {
      "model_module": "@jupyter-widgets/base",
      "model_module_version": "1.2.0",
      "model_name": "LayoutModel",
      "state": {}
     },
     "04f88be462d34f0eaf11529930eddae6": {
      "model_module": "@jupyter-widgets/base",
      "model_module_version": "1.2.0",
      "model_name": "LayoutModel",
      "state": {}
     },
     "056c24b9e58545e7baa76bf7f7fb7162": {
      "model_module": "bqplot",
      "model_module_version": "^0.5.21",
      "model_name": "LinearScaleModel",
      "state": {
       "allow_padding": false,
       "max": 1,
       "min": 0,
       "stabilized": false
      }
     },
     "079507137c464615aab976014023bca1": {
      "model_module": "bqplot",
      "model_module_version": "^0.5.21",
      "model_name": "AxisModel",
      "state": {
       "orientation": "vertical",
       "scale": "IPY_MODEL_857e18d3c0b74c1a988c9326fbbc1d1a",
       "side": "left",
       "tick_values": null
      }
     },
     "0d8f1965327d4865979d1479f8eb4707": {
      "model_module": "bqplot",
      "model_module_version": "^0.5.21",
      "model_name": "LinearScaleModel",
      "state": {
       "allow_padding": false,
       "max": 1,
       "min": 0,
       "stabilized": false
      }
     },
     "148fc7ce49fe42fdb65815895e1a0cec": {
      "model_module": "bqplot",
      "model_module_version": "^0.5.21",
      "model_name": "LinearScaleModel",
      "state": {
       "stabilized": false
      }
     },
     "177d814ce3194904bd2a36eb3e22bbeb": {
      "model_module": "@jupyter-widgets/base",
      "model_module_version": "1.2.0",
      "model_name": "LayoutModel",
      "state": {}
     },
     "19a3236152b34176bef1be7bf080a30c": {
      "model_module": "@jupyter-widgets/base",
      "model_module_version": "1.2.0",
      "model_name": "LayoutModel",
      "state": {}
     },
     "1b47471397084a9c85a816a2ceb00c1b": {
      "model_module": "@jupyter-widgets/base",
      "model_module_version": "1.2.0",
      "model_name": "LayoutModel",
      "state": {}
     },
     "207c48f9016340cb8cfd6f3b0e9ebc8a": {
      "model_module": "@jupyter-widgets/base",
      "model_module_version": "1.2.0",
      "model_name": "LayoutModel",
      "state": {}
     },
     "20ed56c90cfc40e0b4aa8525502177c9": {
      "model_module": "@jupyter-widgets/output",
      "model_module_version": "1.0.0",
      "model_name": "OutputModel",
      "state": {
       "layout": "IPY_MODEL_ac3e7633c998488487eb0ecc4818299e",
       "outputs": [
        {
         "data": {
          "image/png": "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\n",
          "text/plain": "<Figure size 720x1080 with 1 Axes>"
         },
         "metadata": {
          "needs_background": "light"
         },
         "output_type": "display_data"
        }
       ]
      }
     },
     "251ef01a4e924276a510cb9a68d271ad": {
      "model_module": "bqplot",
      "model_module_version": "^0.5.21",
      "model_name": "LinearScaleModel",
      "state": {
       "stabilized": false
      }
     },
     "2b756b4ac3274b5cb6dc0283a109d48b": {
      "model_module": "@jupyter-widgets/base",
      "model_module_version": "1.2.0",
      "model_name": "LayoutModel",
      "state": {
       "min_width": "800px"
      }
     },
     "2df397f4fa164823aebccba0ff721999": {
      "model_module": "bqplot",
      "model_module_version": "^0.5.21",
      "model_name": "LinearScaleModel",
      "state": {
       "allow_padding": false,
       "max": 1,
       "min": 0,
       "stabilized": false
      }
     },
     "35111b37312c4223951e74bd396b55c6": {
      "model_module": "@jupyter-widgets/controls",
      "model_module_version": "1.5.0",
      "model_name": "VBoxModel",
      "state": {
       "_dom_classes": [
        "widget-interact"
       ],
       "children": [
        "IPY_MODEL_447611ff64b54be9aa0c457ea8eb697b",
        "IPY_MODEL_d5e35f52914441a5848d6894a6d61526",
        "IPY_MODEL_5190774282904ffdb0476934e62bb256"
       ],
       "layout": "IPY_MODEL_d8c795328d4847df82a200febc9ca21f"
      }
     },
     "35b1664bd56741a39ac651f8d32b9a20": {
      "model_module": "@jupyter-widgets/controls",
      "model_module_version": "1.5.0",
      "model_name": "DescriptionStyleModel",
      "state": {
       "description_width": ""
      }
     },
     "35da03056324452bbb695a2407b57bb3": {
      "model_module": "bqplot",
      "model_module_version": "^0.5.21",
      "model_name": "AxisModel",
      "state": {
       "label": "site_id",
       "scale": "IPY_MODEL_148fc7ce49fe42fdb65815895e1a0cec",
       "side": "bottom",
       "tick_values": null
      }
     },
     "37a7c659d2b9454ba30e85f766ea8e47": {
      "model_module": "@jupyter-widgets/controls",
      "model_module_version": "1.5.0",
      "model_name": "VBoxModel",
      "state": {
       "children": [
        "IPY_MODEL_eea65ac396604ac88ecc1ba43c9b7a58",
        "IPY_MODEL_e87a33f98b924747b775f3232eae0e9f"
       ],
       "layout": "IPY_MODEL_19a3236152b34176bef1be7bf080a30c"
      }
     },
     "3a07170f4a3944b3bcbd511d21b104fc": {
      "model_module": "bqplot",
      "model_module_version": "^0.5.21",
      "model_name": "LinearScaleModel",
      "state": {
       "stabilized": false
      }
     },
     "3f00b45ec67c4361892224371c6b08f1": {
      "model_module": "@jupyter-widgets/base",
      "model_module_version": "1.2.0",
      "model_name": "LayoutModel",
      "state": {}
     },
     "3f40e94520cc447e81f559887a4150fc": {
      "model_module": "@jupyter-widgets/controls",
      "model_module_version": "1.5.0",
      "model_name": "DescriptionStyleModel",
      "state": {
       "description_width": ""
      }
     },
     "43acee2f85cb416faf55beeec38c7863": {
      "model_module": "bqplot",
      "model_module_version": "^0.5.21",
      "model_name": "AxisModel",
      "state": {
       "scale": "IPY_MODEL_c8fa95df77844fb2ae7b9961a4977083",
       "side": "bottom",
       "tick_values": null
      }
     },
     "445782e35f284dee86fb792e2b11cb6e": {
      "model_module": "@jupyter-widgets/base",
      "model_module_version": "1.2.0",
      "model_name": "LayoutModel",
      "state": {}
     },
     "4467d8c1911349eabf014074893193bc": {
      "model_module": "bqplot",
      "model_module_version": "^0.5.21",
      "model_name": "LinearScaleModel",
      "state": {
       "stabilized": false
      }
     },
     "447611ff64b54be9aa0c457ea8eb697b": {
      "model_module": "@jupyter-widgets/controls",
      "model_module_version": "1.5.0",
      "model_name": "DropdownModel",
      "state": {
       "_options_labels": [
        "SO2_CONC",
        "SO4_CONC",
        "NO3_CONC",
        "HNO3_CONC",
        "TNO3_CONC",
        "NH4_CONC",
        "CA_CONC",
        "NA_CONC",
        "MG_CONC",
        "K_CONC",
        "CL_CONC"
       ],
       "description": "xf",
       "index": 0,
       "layout": "IPY_MODEL_177d814ce3194904bd2a36eb3e22bbeb",
       "style": "IPY_MODEL_3f40e94520cc447e81f559887a4150fc"
      }
     },
     "46541e8c1b084b83a255d0ee5a48cf4d": {
      "model_module": "bqplot",
      "model_module_version": "^0.5.21",
      "model_name": "AxisModel",
      "state": {
       "label": "avg_polution",
       "orientation": "vertical",
       "scale": "IPY_MODEL_251ef01a4e924276a510cb9a68d271ad",
       "side": "left",
       "tick_values": null
      }
     },
     "483772ee649c4ff08a93a0ed98f69b03": {
      "model_module": "@jupyter-widgets/controls",
      "model_module_version": "1.5.0",
      "model_name": "DescriptionStyleModel",
      "state": {
       "description_width": ""
      }
     },
     "48791c612c034a90a6ea79cd8fe5bef8": {
      "model_module": "bqplot",
      "model_module_version": "^0.5.21",
      "model_name": "FigureModel",
      "state": {
       "axes": [
        "IPY_MODEL_35da03056324452bbb695a2407b57bb3",
        "IPY_MODEL_825de313795147348debc2ef92d95748"
       ],
       "layout": "IPY_MODEL_2b756b4ac3274b5cb6dc0283a109d48b",
       "marks": [
        "IPY_MODEL_870967d003ab4415b35a31f8770b7c41"
       ],
       "scale_x": "IPY_MODEL_0d8f1965327d4865979d1479f8eb4707",
       "scale_y": "IPY_MODEL_98b8b55535e24d90916ba52fcd385036"
      }
     },
     "5190774282904ffdb0476934e62bb256": {
      "model_module": "@jupyter-widgets/output",
      "model_module_version": "1.0.0",
      "model_name": "OutputModel",
      "state": {
       "layout": "IPY_MODEL_1b47471397084a9c85a816a2ceb00c1b",
       "outputs": [
        {
         "data": {
          "image/png": "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\n",
          "text/plain": "<Figure size 720x1080 with 1 Axes>"
         },
         "metadata": {
          "needs_background": "light"
         },
         "output_type": "display_data"
        }
       ]
      }
     },
     "596454a0241747198d375866f826e375": {
      "model_module": "@jupyter-widgets/base",
      "model_module_version": "1.2.0",
      "model_name": "LayoutModel",
      "state": {}
     },
     "60f4e6a7c98549cfbc9f50e25ff93aa4": {
      "model_module": "@jupyter-widgets/base",
      "model_module_version": "1.2.0",
      "model_name": "LayoutModel",
      "state": {}
     },
     "63637842a92a451fa495cf67e5158c3b": {
      "buffers": [
       {
        "data": "O4PX6MqoI0D1zOPq9b8XQHKvuZA0pRRAPgrXo3A98j8R4u2qe6cYQFKIgEOoUhJAGnYFyL3mIEBF5C9Qu1MkQDmZpmYI8yBAALxmPndnFEDqc7UV+xMlQJrbPtnlNSdAMNNDgYtiF0DLwOlF1VcgQMd5c9sn+yNAmeDBPFEHH0Bilcj7LmISQJ+nmA/lIhJAoDFNBpizBUAjbE3I3IoMQHHhHikAZCVAmgwwZ9lcFkAuDhaUdFwdQG0FnzjSa/E/QUPw3ePSFECHAnDhkbL7P3UiakvG2vA/7MxHXApSHUCFpCkVZz/1P7zdYk6gWA1ALfaX3ZPHIkCzDHGsizskQLDtzaVlgPw/5J69Qi6ACkAn0trLQtgfQLY6JngwDwdA6oKprHhSDkD8ciWAXncGQCCF61G4Hvk/RYts5/vpA0D3t63WMkIVQDi7pviwTxVAyAMO5Yj5+D/hjdW2McYUQPIkWIu+8cQ/A0Jqtwv21j/iMusJj3rUP7T5Z0yTgRhADhDM0eMnMEBKIewXeYcRQA+dky8iPwtAnMFrdGVc+T+qrHjSCAj9P/IpAMYzaNg/QDVeukkM+D8mzLT9KysAQH8/NV66SdQ/Lpt/xjQ5HkAsVGpQ7FLsPyR8zJ6QeuY/T7vTwPjd2z/u79UCnh3lP8uhRbbz/dQ/nk6Wd/IG3T8cbs0oRXHnP4VvwXmYHck/XctnBh/oyz+sWMHlxWHRPzqWJejdBts/u9PA+N2X6j9v+K9bSmjYPzKPq9f/6M0/aknexdgg+j9AjiEjCTbfP5VdJUoaVxhAMMIzVm8W8j/Hc6XpOugRQKAaL90khvI/kYS64kHF8T+APIAirf0XQB/suIVSH/I/v4tYJfK+4T++kDnwTHLzP1iVn3Yai+Q/u45mfYSP3z9rS8baiNDZPw==",
        "encoding": "base64",
        "path": [
         "y",
         "value"
        ]
       }
      ],
      "model_module": "bqplot",
      "model_module_version": "^0.5.21",
      "model_name": "BarsModel",
      "state": {
       "colors": [
        "red"
       ],
       "label_font_style": {},
       "scales": {
        "x": "IPY_MODEL_3a07170f4a3944b3bcbd511d21b104fc",
        "y": "IPY_MODEL_251ef01a4e924276a510cb9a68d271ad"
       },
       "x": [
        "106",
        "107",
        "108",
        "109",
        "110",
        "111",
        "112",
        "113",
        "114",
        "115",
        "116",
        "117",
        "119",
        "120",
        "122",
        "123",
        "124",
        "125",
        "126",
        "127",
        "128",
        "130",
        "131",
        "132",
        "133",
        "134",
        "135",
        "136",
        "137",
        "138",
        "139",
        "140",
        "141",
        "142",
        "144",
        "145",
        "147",
        "148",
        "150",
        "151",
        "152",
        "153",
        "156",
        "157",
        "161",
        "165",
        "169",
        "171",
        "172",
        "175",
        "181",
        "184",
        "185",
        "186",
        "187",
        "188",
        "206",
        "231",
        "401",
        "403",
        "404",
        "405",
        "406",
        "407",
        "408",
        "409",
        "410",
        "411",
        "412",
        "413",
        "414",
        "415",
        "416",
        "417",
        "418",
        "419",
        "420",
        "421",
        "422",
        "426",
        "427",
        "429",
        "430",
        "467",
        "468",
        "474"
       ],
       "y": {
        "dtype": "float64",
        "shape": [
         86
        ],
        "type": null
       }
      }
     },
     "6cd9437210cf41199b5e6880452e0d4f": {
      "model_module": "bqplot",
      "model_module_version": "^0.5.21",
      "model_name": "ColorScaleModel",
      "state": {
       "colors": [],
       "scale_type": "linear",
       "scheme": "Reds"
      }
     },
     "6fbaefc3b790464bbf93a761f78d6551": {
      "model_module": "@jupyter-widgets/base",
      "model_module_version": "1.2.0",
      "model_name": "LayoutModel",
      "state": {}
     },
     "76dfa8dd4e39447c9b44a5a9771cb96a": {
      "model_module": "@jupyter-widgets/controls",
      "model_module_version": "1.5.0",
      "model_name": "HBoxModel",
      "state": {
       "children": [
        "IPY_MODEL_8e33d735712046fa96dafa7f0002c22c",
        "IPY_MODEL_48791c612c034a90a6ea79cd8fe5bef8"
       ],
       "layout": "IPY_MODEL_d3a592379abb4983993ab9dfb0e01b91"
      }
     },
     "7a907a6824bb4d489f78233f12c9204b": {
      "model_module": "bqplot",
      "model_module_version": "^0.5.21",
      "model_name": "LinearScaleModel",
      "state": {
       "allow_padding": false,
       "max": 1,
       "min": 0,
       "stabilized": false
      }
     },
     "7c84352aced1416f949ff4315226121f": {
      "model_module": "@jupyter-widgets/controls",
      "model_module_version": "1.5.0",
      "model_name": "DropdownModel",
      "state": {
       "_options_labels": [
        "2017.0",
        "2016.0",
        "2005.0",
        "2008.0",
        "2011.0",
        "2009.0",
        "2010.0",
        "2015.0",
        "2018.0",
        "2020.0",
        "2013.0",
        "2012.0",
        "2006.0",
        "2007.0",
        "2014.0",
        "2019.0",
        "2004.0",
        "2003.0",
        "2002.0",
        "2001.0"
       ],
       "description": "yf",
       "index": 0,
       "layout": "IPY_MODEL_cbe4d3d20bc54267998bba8d33bbc419",
       "style": "IPY_MODEL_d5a7ca1b37f94ccf98e2a203d148ea40"
      }
     },
     "805f8b7d8bb54fd29bf8d5f179cca77f": {
      "model_module": "bqplot",
      "model_module_version": "^0.5.21",
      "model_name": "LinearScaleModel",
      "state": {
       "allow_padding": false,
       "max": 1,
       "min": 0,
       "stabilized": false
      }
     },
     "81d245eaba5d4d14a19f0d1fe100b51c": {
      "model_module": "bqplot",
      "model_module_version": "^0.5.21",
      "model_name": "LinearScaleModel",
      "state": {
       "allow_padding": false,
       "max": 1,
       "min": 0,
       "stabilized": false
      }
     },
     "821b1d7e5e11422d8aa28d26795ef33c": {
      "model_module": "bqplot",
      "model_module_version": "^0.5.21",
      "model_name": "AxisModel",
      "state": {
       "label": "site_id",
       "scale": "IPY_MODEL_3a07170f4a3944b3bcbd511d21b104fc",
       "side": "bottom",
       "tick_values": null
      }
     },
     "825de313795147348debc2ef92d95748": {
      "model_module": "bqplot",
      "model_module_version": "^0.5.21",
      "model_name": "AxisModel",
      "state": {
       "label": "avg_polution",
       "orientation": "vertical",
       "scale": "IPY_MODEL_4467d8c1911349eabf014074893193bc",
       "side": "left",
       "tick_values": null
      }
     },
     "836611d1694a438c93c3168c6c0ac694": {
      "model_module": "@jupyter-widgets/controls",
      "model_module_version": "1.5.0",
      "model_name": "DescriptionStyleModel",
      "state": {
       "description_width": ""
      }
     },
     "857e18d3c0b74c1a988c9326fbbc1d1a": {
      "model_module": "bqplot",
      "model_module_version": "^0.5.21",
      "model_name": "OrdinalScaleModel",
      "state": {}
     },
     "870967d003ab4415b35a31f8770b7c41": {
      "buffers": [
       {
        "data": "O4PX6MqoI0D1zOPq9b8XQHKvuZA0pRRAPgrXo3A98j8R4u2qe6cYQFKIgEOoUhJAGnYFyL3mIEBF5C9Qu1MkQDmZpmYI8yBAALxmPndnFEDqc7UV+xMlQJrbPtnlNSdAMNNDgYtiF0DLwOlF1VcgQMd5c9sn+yNAmeDBPFEHH0Bilcj7LmISQJ+nmA/lIhJAoDFNBpizBUAjbE3I3IoMQHHhHikAZCVAmgwwZ9lcFkAuDhaUdFwdQG0FnzjSa/E/QUPw3ePSFECHAnDhkbL7P3UiakvG2vA/7MxHXApSHUCFpCkVZz/1P7zdYk6gWA1ALfaX3ZPHIkCzDHGsizskQLDtzaVlgPw/5J69Qi6ACkAn0trLQtgfQLY6JngwDwdA6oKprHhSDkD8ciWAXncGQCCF61G4Hvk/RYts5/vpA0D3t63WMkIVQDi7pviwTxVAyAMO5Yj5+D/hjdW2McYUQPIkWIu+8cQ/A0Jqtwv21j/iMusJj3rUP7T5Z0yTgRhADhDM0eMnMEBKIewXeYcRQA+dky8iPwtAnMFrdGVc+T+qrHjSCAj9P/IpAMYzaNg/QDVeukkM+D8mzLT9KysAQH8/NV66SdQ/Lpt/xjQ5HkAsVGpQ7FLsPyR8zJ6QeuY/T7vTwPjd2z/u79UCnh3lP8uhRbbz/dQ/nk6Wd/IG3T8cbs0oRXHnP4VvwXmYHck/XctnBh/oyz+sWMHlxWHRPzqWJejdBts/u9PA+N2X6j9v+K9bSmjYPzKPq9f/6M0/aknexdgg+j9AjiEjCTbfP5VdJUoaVxhAMMIzVm8W8j/Hc6XpOugRQKAaL90khvI/kYS64kHF8T+APIAirf0XQB/suIVSH/I/v4tYJfK+4T++kDnwTHLzP1iVn3Yai+Q/u45mfYSP3z9rS8baiNDZPw==",
        "encoding": "base64",
        "path": [
         "y",
         "value"
        ]
       }
      ],
      "model_module": "bqplot",
      "model_module_version": "^0.5.21",
      "model_name": "BarsModel",
      "state": {
       "colors": [
        "red"
       ],
       "label_font_style": {},
       "scales": {
        "x": "IPY_MODEL_148fc7ce49fe42fdb65815895e1a0cec",
        "y": "IPY_MODEL_4467d8c1911349eabf014074893193bc"
       },
       "x": [
        "106",
        "107",
        "108",
        "109",
        "110",
        "111",
        "112",
        "113",
        "114",
        "115",
        "116",
        "117",
        "119",
        "120",
        "122",
        "123",
        "124",
        "125",
        "126",
        "127",
        "128",
        "130",
        "131",
        "132",
        "133",
        "134",
        "135",
        "136",
        "137",
        "138",
        "139",
        "140",
        "141",
        "142",
        "144",
        "145",
        "147",
        "148",
        "150",
        "151",
        "152",
        "153",
        "156",
        "157",
        "161",
        "165",
        "169",
        "171",
        "172",
        "175",
        "181",
        "184",
        "185",
        "186",
        "187",
        "188",
        "206",
        "231",
        "401",
        "403",
        "404",
        "405",
        "406",
        "407",
        "408",
        "409",
        "410",
        "411",
        "412",
        "413",
        "414",
        "415",
        "416",
        "417",
        "418",
        "419",
        "420",
        "421",
        "422",
        "426",
        "427",
        "429",
        "430",
        "467",
        "468",
        "474"
       ],
       "y": {
        "dtype": "float64",
        "shape": [
         86
        ],
        "type": null
       }
      }
     },
     "8b45f8a605764927bc7b9d639c612fef": {
      "model_module": "bqplot",
      "model_module_version": "^0.5.21",
      "model_name": "LinearScaleModel",
      "state": {
       "allow_padding": false,
       "max": 1,
       "min": 0,
       "stabilized": false
      }
     },
     "8b7e09b689b943b8af963282b48e8123": {
      "model_module": "@jupyter-widgets/base",
      "model_module_version": "1.2.0",
      "model_name": "LayoutModel",
      "state": {}
     },
     "8d9f5c503fdb45fa83185499935b8669": {
      "model_module": "@jupyter-widgets/controls",
      "model_module_version": "1.5.0",
      "model_name": "DescriptionStyleModel",
      "state": {
       "description_width": ""
      }
     },
     "8e33d735712046fa96dafa7f0002c22c": {
      "model_module": "bqplot",
      "model_module_version": "^0.5.21",
      "model_name": "FigureModel",
      "state": {
       "axes": [
        "IPY_MODEL_d20817d08dca4dd1b5e08b545000119d",
        "IPY_MODEL_df73273fa39a4c6c962db82f9f6dcb99",
        "IPY_MODEL_079507137c464615aab976014023bca1"
       ],
       "layout": "IPY_MODEL_02f582ff78034b6982d24b99c8e12730",
       "marks": [
        "IPY_MODEL_cbe82b1ba0374d14b06928b851a9e450"
       ],
       "scale_x": "IPY_MODEL_81d245eaba5d4d14a19f0d1fe100b51c",
       "scale_y": "IPY_MODEL_8b45f8a605764927bc7b9d639c612fef"
      }
     },
     "92482e5260a2473eaf5b6b052422c9a0": {
      "model_module": "@jupyter-widgets/base",
      "model_module_version": "1.2.0",
      "model_name": "LayoutModel",
      "state": {}
     },
     "94e2e81ec6914744abba0364088941d5": {
      "model_module": "@jupyter-widgets/controls",
      "model_module_version": "1.5.0",
      "model_name": "DescriptionStyleModel",
      "state": {
       "description_width": ""
      }
     },
     "94e585bfa89049cf92767d400058bc2e": {
      "model_module": "bqplot",
      "model_module_version": "^0.5.21",
      "model_name": "FigureModel",
      "state": {
       "axes": [
        "IPY_MODEL_effd2ef015ed479b87498f922197f19f",
        "IPY_MODEL_43acee2f85cb416faf55beeec38c7863",
        "IPY_MODEL_b5846ba3965f4cbb8189e6cdc9022fe0"
       ],
       "layout": "IPY_MODEL_b7033e2c66374bc8999941fd3e47ca23",
       "marks": [
        "IPY_MODEL_fcd88fd12b054cc98016a56ce7eba7d4"
       ],
       "scale_x": "IPY_MODEL_2df397f4fa164823aebccba0ff721999",
       "scale_y": "IPY_MODEL_056c24b9e58545e7baa76bf7f7fb7162"
      }
     },
     "95ce671708f046f489463f73ffd7b103": {
      "model_module": "bqplot",
      "model_module_version": "^0.5.21",
      "model_name": "OrdinalScaleModel",
      "state": {}
     },
     "98a0590b24024d558a78d0d7622caf42": {
      "model_module": "@jupyter-widgets/controls",
      "model_module_version": "1.5.0",
      "model_name": "DescriptionStyleModel",
      "state": {
       "description_width": ""
      }
     },
     "98b8b55535e24d90916ba52fcd385036": {
      "model_module": "bqplot",
      "model_module_version": "^0.5.21",
      "model_name": "LinearScaleModel",
      "state": {
       "allow_padding": false,
       "max": 1,
       "min": 0,
       "stabilized": false
      }
     },
     "9ac8f2c7e7b14a0ca88dabe8d0c067b6": {
      "model_module": "bqplot",
      "model_module_version": "^0.5.21",
      "model_name": "ColorScaleModel",
      "state": {
       "colors": [],
       "scale_type": "linear",
       "scheme": "Reds"
      }
     },
     "9eed1a4843f640b787ba3e932db9392b": {
      "model_module": "@jupyter-widgets/controls",
      "model_module_version": "1.5.0",
      "model_name": "DescriptionStyleModel",
      "state": {
       "description_width": ""
      }
     },
     "a28f0801211146be866072c66d3cffa7": {
      "model_module": "@jupyter-widgets/output",
      "model_module_version": "1.0.0",
      "model_name": "OutputModel",
      "state": {
       "layout": "IPY_MODEL_df44c5539140496fa7df2131a5d06b7b",
       "outputs": [
        {
         "data": {
          "image/png": "iVBORw0KGgoAAAANSUhEUgAAAXUAAAENCAYAAADwjPVkAAAABHNCSVQICAgIfAhkiAAAAAlwSFlzAAALEgAACxIB0t1+/AAAADh0RVh0U29mdHdhcmUAbWF0cGxvdGxpYiB2ZXJzaW9uMy4yLjIsIGh0dHA6Ly9tYXRwbG90bGliLm9yZy+WH4yJAAAgAElEQVR4nO3de7gdVZ3m8e9rAEFuCgTEhBhEwIkSEAN44yI0GG4TL7QQaBluRlQU2hsMKtiNojaCigKZoBlauztxekRBCZcZvIAElABKEhSMAcIRuwmgiIBgkl//sdZJKpW9q+rk7HNOUryf59nPOVW1atWqXVW/WrVqVW1FBGZm1g4vGOkCmJlZ7ziom5m1iIO6mVmLOKibmbWIg7qZWYs4qJuZtcgGI7XgbbbZJsaPHz9SizczWy/dcccdj0bE6G7Ta4O6pJnAEcAjEfGaDtOPA87Mg38G3hcRv6zLd/z48cybN68umZmZFUh6sGp6k+aXK4DJFdPvB/aPiInAecCMxqUzM7Oeqq2pR8RNksZXTJ9bGLwNGDv4YpmZ2dro9Y3Sk4Fre5ynmZk11LMbpZLeQgrqb65IMw2YBjBu3LheLdrMzLKe1NQlTQS+DkyJiMe6pYuIGRExKSImjR7d9eatmZmtpUEHdUnjgCuBd0fEfYMvkpmZra0mXRpnAQcA20jqA84FNgSIiOnAOcDWwKWSAJZFxKShKrCZmXXXpPfL1JrppwCn9KxEZma21kbsiVIbGePPumaNcQ98/vARKImZDQW/+8XMrEUc1M3MWsRB3cysRRzUzcxaxEHdzKxFHNTNzFrEQd3MrEUc1M3MWsRB3cysRRzUzcxaxEHdzKxFHNTNzFrEQd3MrEUc1M3MWsRB3cysRRzUzcxaxEHdzKxFHNTNzFrEQd3MrEUc1M3MWsRB3cysRTYY6QKY2cgbf9Y1qw0/8PnDR6gkNliuqZuZtYiDuplZiziom5m1iIO6mVmL1AZ1STMlPSJpQZfpknSxpEWS7pa0Z++LaWZmTTSpqV8BTK6Yfiiwc/5MAy4bfLHMzGxt1Ab1iLgJeLwiyRTgm5HcBrxY0va9KqCZmTXXizb1McBDheG+PG4NkqZJmidp3tKlS3uwaDMzK+pFUFeHcdEpYUTMiIhJETFp9OjRPVi0mZkV9SKo9wE7FIbHAg/3IF8zMxugXgT1q4Hjcy+Y1wNPRMTve5CvmZkNUO27XyTNAg4AtpHUB5wLbAgQEdOBOcBhwCLgaeDEoSqsmZlVqw3qETG1ZnoAH+hZiczMbK35iVIzsxZxUDczaxEHdTOzFnFQNzNrEQd1M7MWcVA3M2sRB3UzsxZxUDcza5Hah4/MBqr8y/TgX6c3Gy6uqZuZtYiDuplZiziom5m1iIO6mVmLOKibmbWIg7qZWYs4qJuZtYj7qZvZsPDzC8PDNXUzsxZxUDczaxEHdTOzFnFQNzNrEd8obZnyzSjfiDJ7fnFN3cysRRzUzcxaxEHdzKxFHNTNzFqkUVCXNFnSvZIWSTqrw/QtJX1f0i8lLZR0Yu+LamZmdWqDuqRRwCXAocAEYKqkCaVkHwDuiYjdgQOACyVt1OOymplZjSY19b2BRRGxOCKeA2YDU0ppAthckoDNgMeBZT0tqZmZ1WrST30M8FBhuA/Yp5Tma8DVwMPA5sDREbGinJGkacA0gHHjxq1Nec3MhtT6/qxHk5q6OoyL0vBbgV8ALwP2AL4maYs1ZoqYERGTImLS6NGjB1xYMzOr1iSo9wE7FIbHkmrkRScCV0ayCLgfeFVvimhmZk01Ceq3AztL2jHf/DyG1NRStAQ4CEDSdsCuwOJeFtTMzOrVtqlHxDJJpwHXA6OAmRGxUNKpefp04DzgCknzSc01Z0bEo0NYbjMz66DRC70iYg4wpzRueuH/h4FDels0MzMbKL+l0QZsfe8dYNZmDupm1hM+2a8b/O4XM7MWcVA3M2sRB3UzsxZxUDczaxEHdTOzFnFQNzNrEQd1M7MWcT91s3Wc+3/bQDiom1kjPrmsH9z8YmbWIg7qZmYt4qBuZtYiDupmZi3ioG5m1iLu/WLrJPe0MFs7rqmbmbWIa+pmg+ArinXP832buKZuZtYiDupmZi3ioG5m1iIO6mZmLeKgbmbWIg7qZmYt0ooujc/3LkxmZv0aBXVJk4GvAKOAr0fE5zukOQD4MrAh8GhE7N/DcpqZtUa5Igq9q4zWBnVJo4BLgIOBPuB2SVdHxD2FNC8GLgUmR8QSSdv2pHRmZjYgTWrqewOLImIxgKTZwBTgnkKaY4ErI2IJQEQ80stCtqV5pS3rYWbrriY3SscADxWG+/K4ol2Al0j6saQ7JB3fqwKamVlzTWrq6jAuOuTzOuAgYBPgVkm3RcR9q2UkTQOmAYwbN27gpTUzs0pNaup9wA6F4bHAwx3SXBcRT0XEo8BNwO7ljCJiRkRMiohJo0ePXtsym5lZF02C+u3AzpJ2lLQRcAxwdSnNVcC+kjaQ9CJgH+BXvS2qmZnVqW1+iYhlkk4Drid1aZwZEQslnZqnT4+IX0m6DrgbWEHq9rhgKAtuZmZratRPPSLmAHNK46aXhi8ALuhd0czMbKD8mgAzsxZpxWsCzDrxcwH2fOSauplZiziom5m1iJtfzMzWQWvbfOiauplZi7imbmvwDUaz9ZeD+jrEwdTMBsvNL2ZmLeKgbmbWIm5+6SE3n5jZSHNQNxtCQ/lblGaduPnFzKxFHNTNzFrEQd3MrEUc1M3MWsQ3Ss0quEeTrW9cUzczaxHX1M3Memwkr/Ac1G1EuFnDbGg4qJvZesOVgXpuUzczaxEHdTOzFnHzS+bLOjNrA9fUzcxaxDV1s+cBX4k+f7imbmbWIo2CuqTJku6VtEjSWRXp9pK0XNJRvSuimZk1VRvUJY0CLgEOBSYAUyVN6JLuC8D1vS6kmZk106SmvjewKCIWR8RzwGxgSod0HwS+AzzSw/KZmdkANAnqY4CHCsN9edxKksYAbwemV2UkaZqkeZLmLV26dKBlNTOzGk2CujqMi9Lwl4EzI2J5VUYRMSMiJkXEpNGjRzcto5mZNdSkS2MfsENheCzwcCnNJGC2JIBtgMMkLYuI7/WklGZm1kiToH47sLOkHYHfAccAxxYTRMSO/f9LugL4gQO6mdnwqw3qEbFM0mmkXi2jgJkRsVDSqXl6ZTu6mZkNn0ZPlEbEHGBOaVzHYB4RJwy+WGbPH37a03rJT5SambWIg7qZWYv4hV5mZgO0LjeZuaZuZtYiDupmZi3ioG5m1iIO6mZmLeKgbmbWIu79YuutdbkHgtlIcU3dzKxFXFM3s+eVtl/hOaib2Tqj7QF3OLj5xcysRUa8pu4zs5lZ77imbmbWIiNeUx8O5asB8BWBmbWTa+pmZi3ioG5m1iIO6mZmLeKgbmbWIs+LG6VmnfgGurWRa+pmZi3ioG5m1iIO6mZmLeKgbmbWIg7qZmYt0iioS5os6V5JiySd1WH6cZLuzp+5knbvfVHNzKxObVCXNAq4BDgUmABMlTShlOx+YP+ImAicB8zodUHNzKxek37qewOLImIxgKTZwBTgnv4EETG3kP42YGwvC2mr+FXFZlalSVAfAzxUGO4D9qlIfzJw7WAKtS5yMDWz9UGToK4O46JjQuktpKD+5i7TpwHTAMaNG9ewiGZm1lSToN4H7FAYHgs8XE4kaSLwdeDQiHisU0YRMYPc3j5p0qSOJwYzGzhfSVq/Jr1fbgd2lrSjpI2AY4CriwkkjQOuBN4dEff1vphmZtZEbU09IpZJOg24HhgFzIyIhZJOzdOnA+cAWwOXSgJYFhGThq7YZmbWSaO3NEbEHGBOadz0wv+nAKf0tmhmZjZQfqLUzKxFHNTNzFrEQd3MrEUc1M3MWsRB3cysRRzUzcxaxEHdzKxFHNTNzFrEQd3MrEUc1M3MWsRB3cysRRzUzcxaxEHdzKxFHNTNzFrEQd3MrEUc1M3MWsRB3cysRRzUzcxaxEHdzKxFHNTNzFrEQd3MrEUc1M3MWsRB3cysRRzUzcxaxEHdzKxFHNTNzFrEQd3MrEUaBXVJkyXdK2mRpLM6TJeki/P0uyXt2fuimplZndqgLmkUcAlwKDABmCppQinZocDO+TMNuKzH5TQzswaa1NT3BhZFxOKIeA6YDUwppZkCfDOS24AXS9q+x2U1M7MaiojqBNJRwOSIOCUPvxvYJyJOK6T5AfD5iPhpHr4RODMi5pXymkaqyQPsCtxbmLwN8GhNeevSDHb6upJHW5bRizzasoxe5OFlDG8e6+oyXh4Ro7umjojKD/C3wNcLw+8GvlpKcw3w5sLwjcDr6vIu5TFvsGkGO31dyaMty1hfyunvon3LWF/K2YtllD9Nml/6gB0Kw2OBh9cijZmZDbEmQf12YGdJO0raCDgGuLqU5mrg+NwL5vXAExHx+x6X1czMamxQlyAilkk6DbgeGAXMjIiFkk7N06cDc4DDgEXA08CJa1GWGT1IM9jp60oebVlGL/JoyzJ6kYeXMbx5rC/LWE3tjVIzM1t/+IlSM7MWcVA3M2sRB3UzsxYZ9qAuacuKaXs1mP+dNdPflP/uWpemy7QdJH2sw/jNJG1aV76BkLRPxbSNJf1tD5ZR+X1VzLehpNdK2jYPt6ICIOn8YVrOFhXTxvVoGdvVTH/9IPPfsGLajoPJuy7/QppzKj6fyml2qJh/3/z3HYMt72BJ+mhVWXu2nOG+USppHnBwRPyhNP4Q4BsRUbnSkpYAOwLvAsYA10XEAklHAGcDm0TEayWtAL4FfCAi/lzK486I2LMwvA3pIaupOc/vRsRH87T3A2cBmwICngS+EBGXSrohIg4ZxHexJCLGFYZHAYfkcrwVuDkijsrT/gdwOulJXIBfARdHxDfrlgF8sipNRHxT0nTSQ2UL84n3VmA5sBXwUeBM4H0RcWvN8nYlPTX8qkI5L4+IeyW9KiJ+ndO9MCKeLcz3euA4oOsOGREfqguIEbGkVJ6tgf2AJRFxR3nbd1mHD5O65X6jNP6DwKiI+HLO99jSes6KiMdy2pXLkXRjRBxUyOdO4G+qygCcUDHtWeC3wBXAfGAW8J2IeKJU3ruAn5Oe7v5jh/WsC3TvAaZEej1Icb7dgasiYryk/aoyiIibSvMKeAvpuzsyIrbL43ej8F1GxII8/iMdsn0RcAqwdURsJmkxMB24KCKW5fm2Ay4Edo2IvZps91I5dyIdh8dExGvqjnVJ8+m87wqIiJgo6UvAUcD9pG327xHxaCGPS4GzIuJPTcvZSW2XxiHwv4AfSTo4IpYCSDoW+CxweIP5BXyD9LDTz4GLJT0IvIH0hXwvp1tIeijqTknHR3onzco8JG0OvJ20c+0CfBd4RUSMLST6JPBG4ICIWJzHvQL4iqStgO6P6jajnOd+uRyH53V6E7BjRDydpx8PnAF8GLgzz7cncIEkagK7gE5XQAKOJJ3EvgnsGxGn5mknAvdFxNskvRS4Fngv8FVJvwQ+Xj4p53K+AbiStI1n5GW8lrS93wFcmssN6aRRPMguBb5SsR79riEdPCqMC9K22FbStaT9YEF+/9CdwDxgJ0kzgFGSXlKaf1VGEY8DJ5XK1m8GcLuk64Efkrr53sWq7/hsSQfmE1cx/61K+Qi4o7Ae25Me1uufJ4B/rvgOXgIcBNwMfJ307MjnJN1KChZXR8QzwOuADwE/l3ReRHyrlM+Rpf+/X/wqchmvlXRkYV88gFRZOimnW+OqNs+7O+khxFF5vn1I+/jbSd/HB4CP5QrEVaTj+e78HeyWKyNTIuLC/kzzMXt6XvZsUtAmr+fngbsknQ7sRjpW/gk4vvNXuKa8vxydyzkR+BwpsEP9sT4T+CnwB+CvnRJExN/nCsN+pG32qXw8zSLFnweAOySdGxH/1rTcnRY07B/Sqwbmk3bmM4BfA+MbzrsEWAC8IA9vDPwZeGkp3Z35736k/vPnFOa5E3gG+AmwL6uuWBaX8rgX2LhDGTYB7gMWA+/o9mm4Ln3A3PydbJ7H319Kd1un7wcYD9xWt4zSsIC/y9//t4GJefxdhTTXACcUhu8qzPs+Ui3xa8DF/Z88/VrSCbBchv3ztLvKeXYbHsC+NJ70VtDfAB8EFhamnU160RzA5qSg8Wzebvd3+CzOaedXLG8+8H+Bd3WY9k5SjXnl/lf+v8vw2q773YX/NyK9WG8W8B/AvxamTQCeIF1l/qn/b5MyAJ8gnTw2y+u3BJhUUaY35219G+lE8dm8bW4k166L+3fef75IPjbzuBeQAvJX8/BWwGfyNvo08JIuyz4dWEE6psaWpj2dt3/5Mz+n/yHpmP4MKaCXj8HKYz2vw1zgceDHwPmkStpWFd/VKNIV+V3A03ncGNJxeSOpVt84nvR/RqKmTkR8S9Jf8sosAd4U+bIVai9ltgMejYgVOa+/SLovIv6jy7JukjSJVBO8WdJxedLZpLPlZcC/Sfp2l/n/0mHcM7l5Z0vgCDrX+gK4UtL3K9Zla1JN622kGsJySVd1SL9FRDzQoRwPSNqiwfeFpA1Il/QfAX4GHBURxReq/TE3Yf2OdKVwcmG+TXKarUg10qWkWtyK0vJ2iogfdyjnT3It+ani6HIySeUnlcv5/PeVKybtTAo4+5BqbB+KiL9KOrkwy0HA5XneJ/M2uyciXlu1nJz/dhHxn+Vx+d/dIjeLlcr3nUKb/ba5VqbC/+Thcq1vjW0n6ZyK4kVEnBcREwsjnpN0D6kZ6HWkQE7+Ps4ifVeXRI4cnfLssqDPSnqGtL0FHBgRizqU9yDgUzmf8yPi/+XxM0mVo8uAH+TjtbisvyFVLFbuSxGxQtLZwHxJF5CC2gzS975aU2pexouBL5D2hcmkByGvlXR6RPwwJ7uf1a9Min5DqqgcG/klhKUyQs2xHhEn5fk2AiaRrvBPAi6X9MeIWO115bm56RjScf8YKR4REb+TdA3pZHgkq46xIF0F1xr2oF4IQCK1jW1NujwXsCIidid9eWvMSrqcOxs4QNLdhfE75eFiHiu//EjticfmdumbgRdFxJeAL+XmlKnA94CXSfo48L2IuA/ok3RQRNxYWoeDgN+Tzq4nUe2LVdNywDuD1M44FbgA2FLS0cA1eSd+piKPZ0g7fVeSPkCqxdxIeuPmgx2SvZdUa3opcEbhJHkQcI3SE8Qfy+U7uUtweLKiGE8BYyVdTN6W+X/y8BjSJfhDpNrmz+hwAEl6DSlAvZpUmzs5IpYXkjyU2777SE0o1+X5NgE2BJ6j3gV5nT9CuqqDFCj/ibQ9T69ZT0gnk807/A/pRF7nqQ7jNiWdbLcGzoOVN12PJu07m5JfjR0Rv5I0l3RJv2+3Sk+VQoWk/0S0CLgoHarpJCvpcNL2eAL4RETcUsrmpay6T/RlST8CNpG0QaT27+fy39VEepL9WVIl5FnSfaFP9C+bVW3VW5BOOJeR7p8tA26QtAdwqaQHI2Iq8GyX/R5JLyPdU7son7j/D2lfKVrS4FiHVAHagnQS2JLUrDY/L2dnUiCfSgrWs4BDYlXT7qvzejwM7B1r+aqVkbhR+vJOo8kBOyIOK6Xfg9TG9S7S2fY7rN721zEPSe+PiEs7LH8/Uo31fGC74k4oaSLwZWD/iBiVv+SrSG1l/W2ge5FqslNI7d+HlHdkpTvuD0fEbyWNi9LNuypKPQImkzb8IRGxjaSnSQdUp3V+RURU9srJNdRHSDXs4gYv3sQZGxF9XeY/khTIjo2IRzpNj4jvS3qEFFQ6lfNdwMerygn8C3Awad0nkpqBZkXEwsKylpMC/zWkG7llnwH+kdS0d0lE3JDnewspMD8aEVfUlANJh5JquK/JoxaQXi99raQ+4KIu63lG1Nzsz/l/uDD44XJ+EXFRIW1/W/LJpIBzYUQ8koP2GFJz0KxY81XXB/fXmLuUoRi09wVuKiXpb7PehPQDOCtINdpnchl/kvetPuCXdN63ildXG5MqbFNJzTQ3kk68U1nzBC7S/vCXuisrSYsi4pVdpr0nIi6X9GdSE2y/IL3O9qekE8esiLhF0lhWBd4XkTpNnC1pIfCeiJjbZTkzSBWNJ0kVkttITaN/KKRZQWqaOjPyjeBSHs+S9t/PdTrRNTWirwnoFLAj4muSdmHVF/sYqY3poxGxxgmhWx51aUiB8+yIuLuUdi/g3Ig4QtIrSTWNXUgbTKQbsL8hNVNcTjqIy3lMynkcqdV7QXwnIt5ZSjuF1P53SR7+GbBtnnxObqrqdCIsWkDFnXfSjaOuIuJBSfcCby0380g6iVQTW046yXScHhE75SuhquVU3fxbveDSC1l15fKPEfHVPP4EqnvIVC5jIE08FXmcW5PHP9Q1n1DTnTjnsRUp4B9HunH6lVKQ2B+4qVuTSi5nVXNLfxDvGLRJbcSfJTUjLGFVxekK0rHz11yGqjx+BpwKvJLUhj0z18K3IN00PYHVb3yXTwxbRn1vpSY9mjpts61Ibdq3kXqVbU+KNbMi4hc5Dk3N2+KTpDby1dIU8r+O9N7zBaTv7VZgQXHbSLqQ1KHjVfm7mAvcAtwaEY/XTa9av9XWdQRq6rUBO5/RbiZdWi/K4xZHxCsGkEdlGkkLIqK/FlYu4/yI2E3pxz86Bf5JwLmkHip1edzVX9Mo/l9Idwup29RDefgXpCaPTYH/HYWucENJ0mGk3ieHRcRv8rj/SToZHkqqOXed3q2WX1pGbUDNwfxw0nYbT3oD6MyI+F3D9ahcBumg6drEk2ufte3ZDcrRqSveyuaTiNisZv5iW/Il0bktuS5oP91h/MrugKReNF2DNqm5aTPgwxHxZF7mFqQmqKcj4gyley7nV+TxL6TeIDeT9qMHIuKMwjrsDTzU39SQKwbvJDUbfZoU3DpdFaWVjLio4sppZZpu0/KJ8/9HxJ658nRM/mxM2kdmR2qK7U/fNY1S29CrSe3pbyRd5T1OCsrnFvIotru/IX9WtrvXTa8zEjdKf03awEcWAvbfl9K8k/Sl/SifAWez+sHXJI+6NBtXlLH/xuD4ckAHiIh5ksY3zKN40HU6ADfqD+jZTyPdNH5M+WEnSU92mbfYrthVk/kjYk6+/LtW0ttIB/5ewH65dthXM33QAVXSP5MOhGuBf+hyiTqoZZAut/ubeI6lQxMPNe3Z+eDtJiLdxOzUFe9Ecle8BjX5Jm3JawR6Sn24O5Sh2B2wP2jv2CFoX0A6ue5SrG1GxJ8kvY90fJ2R01XlMSEidsvjv0FqsiyaTu6zr9Q0+jlSL6Y9SCe0UTn/qu+8SZqOcg1Z+f8HSTdcvyDptaRuiufm/KlLk7+nBZL+SLrH8ASpuWnvnKZf13b3htMrjURN/e2kgP1G0k2s2aRfVlrjCbUc1N5GOgAPJF2Cfpd0gFXmUbccSbOAH0bE5aVlnkxqZji6pq1uEeld83V5LCcFCZE2Vn/tqb9p5JGKZfw2InbqNG2oSHoz6abxXFK3vb80nS5pKc0D6hpt5vkKrT+gdmqf3WKwyyitS8cmnlKaNdqzSd1Py9aohVc1nwy2Jt+knJHa3avK8BtKQTuPH0UK2hERu3RZ3n0RsUuDPJ6M1R/0Kz/498tIHRuQdAmwNCI+nYd/Qer4MOjml4p5DwQ+GREHatX9rGNIV8s/Ie073yuk75gGGEeKNW8iXZncQmqCuYXURXaFatrd66Y3FmvRP7YXH9IOfBzwA1Kgu4wUCLul34rUQ+OHA8mjWxpSV7+5pD6lF+bPT/KGeGmedxbp5ki5LCeTmnNq82jwPfxrl2W8l7RDDdf2KPZhfo4UXP9UGt91eqzqdzuZFDzuIt30eXWX5b2Q1J66FPjgAMo56GXk8e8A/p10Yv4UMKbD/takb/TmpNr0/aQa3LZ5/AWktuUzgc1q1qljHg2/j67lrCsD6QGzbvneRzp5H99h2t+RHnBqksfyvJ/07yvLSvvTAmCDnP7XpCu//vkX0KAPf8M081mzj3of6crhJFKN+z9JnTCOAzYtzX9wVRpS889RwPYVZbiO9CDcFaSnrncjV6ybTG+8Twx0hqH40CFgD0UendKQuhJ+MH8OLKVvFLSr8mhQ7m3zMn5UWMaP8zK2G+ltM4jtsdYBdSiXQToZ3EEKhK/pkm9tQKYm6JNuGD7DquBVDGx/apJHg/WvC9qVZaAmaJN61vyssP9/Me//Py98n7WBv2YdPkGqzV5Ffjo3j39lHt/14Z3itmiQ5uWlzzhyUM7H3nuq8mmSpuE2E6mJcRopeM8DbiA1N9ZOb/Lxj2Q0oNQdrv+G6MJY9UBDL5dxIOnSa8iWMRyqbnSW2sxnR4c286FeRsMmnhWk9uxlndKQXoNQeROzwTrU3ghtkEdlOaP+XssY0gMt/Q8XBek+ySbA2yPfnC7smyLtmzcONI+acrye1Kvkhoh4Ko/bhXSiurNy5vWUUtfJN5GabI4gNbm9uOn0yrwd1K1XehFQ14VlNCjDoIJpr/LolaqgPZx5tJ2kD1HR7g6cVjU9Ck/dVi7HQd16ZRgD6pAuw2woSLqI3Pc8OjwtWje98XIc1M3M2qMVP3xgZmaJg7qZWYuMyKt3zYaLpE+QnhxdTuri9wfS4/Gbkd48eH9O+v6ImKv0owX3RMRUSSey6o2ME0ivkF1O6k/8a1KXwmLvjmMj4p4hXiWzSm5Tt9ZS+iWmi0g/3PGs0s8WbhQRDyv9gs9HI+KIQvr/RnoacyvSU5JPFaY9QPpxiEfz8Al5+LThWh+zJtz8Ym22PelVu88CRMSjEfFwRfpjST/VdgNQ+7ZGs3WRg7q12Q3ADpLuk3SpVr0mtpujya9VZdVvU1aml/SLwmeT+lnMhpaDurVWfkrzdaRHrpcC387NJmtQeo/+0khv4bsR2FPpB6qrfDsi9ih8qn6hymxYOKhbq0XE8oj4caT3WZ9Geq1zJ1OBV+W289+SXn3aLa3ZOstB3VpL0q5KvwvZbw9gjd+plPQC0m9UToyI8RExnvRzhU2aYMzWKe7SaG22GfBVpV+bX0b6nddpHdLtB/yu9PKpm4AJkraveGT76Px++X7vjy6/YWk2XNyl0cysRdz8YmbWIg7qZmYt4qBuZtYiDupmZi3ioG5m1iIO6mZmLeKgbmbWIg7qZmYt8htyaf4AAAAFSURBVF/Xw52M/kSTtgAAAABJRU5ErkJggg==\n",
          "text/plain": "<Figure size 432x288 with 1 Axes>"
         },
         "metadata": {
          "needs_background": "light"
         },
         "output_type": "display_data"
        }
       ]
      }
     },
     "a514425032f94a4990f9b7f40ed1428d": {
      "model_module": "@jupyter-widgets/controls",
      "model_module_version": "1.5.0",
      "model_name": "VBoxModel",
      "state": {
       "_dom_classes": [
        "widget-interact"
       ],
       "children": [
        "IPY_MODEL_bef819efd52845b7af8c0b1045ba7c2f",
        "IPY_MODEL_a714323cea5a4c0289d47d292693d2e1",
        "IPY_MODEL_20ed56c90cfc40e0b4aa8525502177c9"
       ],
       "layout": "IPY_MODEL_92482e5260a2473eaf5b6b052422c9a0"
      }
     },
     "a714323cea5a4c0289d47d292693d2e1": {
      "model_module": "@jupyter-widgets/controls",
      "model_module_version": "1.5.0",
      "model_name": "DropdownModel",
      "state": {
       "_options_labels": [
        "SITE_ID",
        "YEAR"
       ],
       "description": "yf",
       "index": 0,
       "layout": "IPY_MODEL_445782e35f284dee86fb792e2b11cb6e",
       "style": "IPY_MODEL_836611d1694a438c93c3168c6c0ac694"
      }
     },
     "a885b106b38d463e8993a04a50bdec82": {
      "model_module": "@jupyter-widgets/base",
      "model_module_version": "1.2.0",
      "model_name": "LayoutModel",
      "state": {
       "min_width": "800px"
      }
     },
     "ac3e7633c998488487eb0ecc4818299e": {
      "model_module": "@jupyter-widgets/base",
      "model_module_version": "1.2.0",
      "model_name": "LayoutModel",
      "state": {}
     },
     "b5846ba3965f4cbb8189e6cdc9022fe0": {
      "model_module": "bqplot",
      "model_module_version": "^0.5.21",
      "model_name": "AxisModel",
      "state": {
       "orientation": "vertical",
       "scale": "IPY_MODEL_95ce671708f046f489463f73ffd7b103",
       "side": "left",
       "tick_values": null
      }
     },
     "b7033e2c66374bc8999941fd3e47ca23": {
      "model_module": "@jupyter-widgets/base",
      "model_module_version": "1.2.0",
      "model_name": "LayoutModel",
      "state": {
       "min_width": "800px"
      }
     },
     "b8bfddd319304bd6a2204af5ad7db966": {
      "model_module": "@jupyter-widgets/controls",
      "model_module_version": "1.5.0",
      "model_name": "VBoxModel",
      "state": {
       "_dom_classes": [
        "widget-interact"
       ],
       "children": [
        "IPY_MODEL_e9e54653b1d842e2a966ea03683bcac2",
        "IPY_MODEL_d6ffa8329eb04e0786bfe742e551b4ea",
        "IPY_MODEL_fd5fc4bdc6b24120812ba56512240f7c"
       ],
       "layout": "IPY_MODEL_6fbaefc3b790464bbf93a761f78d6551"
      }
     },
     "ba56fe5aedf44debb4cbc691529e7a4a": {
      "model_module": "@jupyter-widgets/base",
      "model_module_version": "1.2.0",
      "model_name": "LayoutModel",
      "state": {}
     },
     "baeb2c3d92cb4be293246310b26d1872": {
      "model_module": "@jupyter-widgets/controls",
      "model_module_version": "1.5.0",
      "model_name": "DescriptionStyleModel",
      "state": {
       "description_width": ""
      }
     },
     "bb1f29c25ed842b5a0bf39f6cf1827b7": {
      "model_module": "@jupyter-widgets/base",
      "model_module_version": "1.2.0",
      "model_name": "LayoutModel",
      "state": {}
     },
     "bef819efd52845b7af8c0b1045ba7c2f": {
      "model_module": "@jupyter-widgets/controls",
      "model_module_version": "1.5.0",
      "model_name": "DropdownModel",
      "state": {
       "_options_labels": [
        "SO2_CONC",
        "SO4_CONC",
        "NO3_CONC",
        "HNO3_CONC",
        "TNO3_CONC",
        "NH4_CONC",
        "CA_CONC",
        "NA_CONC",
        "MG_CONC",
        "K_CONC",
        "CL_CONC"
       ],
       "description": "xf",
       "index": 0,
       "layout": "IPY_MODEL_207c48f9016340cb8cfd6f3b0e9ebc8a",
       "style": "IPY_MODEL_baeb2c3d92cb4be293246310b26d1872"
      }
     },
     "c51784fed23d4b6a922e8b54a112ceaf": {
      "model_module": "@jupyter-widgets/controls",
      "model_module_version": "1.5.0",
      "model_name": "VBoxModel",
      "state": {
       "_dom_classes": [
        "widget-interact"
       ],
       "children": [
        "IPY_MODEL_d537da222d5e4c38b505dbf1009a04c9",
        "IPY_MODEL_7c84352aced1416f949ff4315226121f",
        "IPY_MODEL_a28f0801211146be866072c66d3cffa7"
       ],
       "layout": "IPY_MODEL_04f88be462d34f0eaf11529930eddae6"
      }
     },
     "c8fa95df77844fb2ae7b9961a4977083": {
      "model_module": "bqplot",
      "model_module_version": "^0.5.21",
      "model_name": "OrdinalScaleModel",
      "state": {}
     },
     "cbe4d3d20bc54267998bba8d33bbc419": {
      "model_module": "@jupyter-widgets/base",
      "model_module_version": "1.2.0",
      "model_name": "LayoutModel",
      "state": {}
     },
     "cbe82b1ba0374d14b06928b851a9e450": {
      "buffers": [
       {
        "data": "TTJyFva0/T+JtfgUAOMIQOXaUDHO3/o/++jUlc/y3D/kuFM6WP8AQBCv6xfshuE/g8DKoUW20z+bZOQs7GkLQFc+y/Pg7tw/WipvRzgtyD9pUgq6vaQWQA==",
        "encoding": "base64",
        "path": [
         "color",
         0,
         "value"
        ]
       },
       {
        "data": "J1CsO/7z/D/ygEM5Yr4JQP+s9NVQZQBApJvEILBy5D+hL/LnEG0FQA7liPk2QeQ/4E+Nl24S0z/ipZvEILAEQFNnFV0+udU/38oc1fN4xD+zsrKysrIMQA==",
        "encoding": "base64",
        "path": [
         "color",
         1,
         "value"
        ]
       },
       {
        "data": "SNgBqh2zD0A3xz9b0CMGQLlUc165Fug/bfK/AVzT8z92xXbZyo3/P2jJiBOt2O0/Ze8gICf5zD9Bkvya3qvIP36lPy3s+6k//5kMVH02sD+ZXngXbY/JPw==",
        "encoding": "base64",
        "path": [
         "color",
         2,
         "value"
        ]
       },
       {
        "data": "ViL5IAadDUBLxH7jEeQFQBLpSTwL/eo/MMDRM2ay8z/OgT8qP3AAQFMvsajdke4/Uo3eDEuozD/+UUron1XHP6xl6zGykqg/tVIVLLJsrz8cMhjgwtjAPw==",
        "encoding": "base64",
        "path": [
         "color",
         3,
         "value"
        ]
       },
       {
        "data": "H9K7U7xFDkBQSE5hQP0IQLNGHAjaIeo/IhvjGdt09T+0WEmhJhcBQAmvIQhLhvE/bgaajMVUzz9JCxwAzRTFP1/C/n6PEak/PUi+qRMBsD/M4jdsclTAPw==",
        "encoding": "base64",
        "path": [
         "color",
         4,
         "value"
        ]
       },
       {
        "data": "rymGv5kXCUAP4Qw/2CUFQHG7Qwklx+c/+tyfrrl28j+Ip/Z+6w7+PyT98Ai1kew/D0UcBEsl0D9pYzG6V4/EP4QJWIAko6k/sxU3kCUTsD+ccLe9DA+/Pw==",
        "encoding": "base64",
        "path": [
         "color",
         5,
         "value"
        ]
       },
       {
        "data": "cx4qnAboB0CVOS8OHDEFQJ+oJWTiTOo/VV7FYkbP8j/PIrNe9qj/PzjehSp0Ce4/muUjzfcq0T9yodEPWVLHP+p0HqgGh6s/0TWrGrC7sD9SMF3Xj5nBPw==",
        "encoding": "base64",
        "path": [
         "color",
         6,
         "value"
        ]
       },
       {
        "data": "HpJgAt+ZBEDY0f8Vx6cCQAmJLSk11Og/vLgBYnVP8D8RDP4m7Hb8P39OruEok+o/Zftm98gN0D/8iw/4MDPKP1SxtUZHSKs/XvpEKyVpsT9Y/5PIBOzEPw==",
        "encoding": "base64",
        "path": [
         "color",
         7,
         "value"
        ]
       },
       {
        "data": "QkgA+eM5/D+hkZ925A3/P561IPI+COg/XJ708Vyv6D8a2AWxXin4P++StBAMXec/FqnfDaLwzT9R4Ew8/3jGP46PUj9tOag/t4cYL+L3sj+Pkw3fUwDDPw==",
        "encoding": "base64",
        "path": [
         "color",
         8,
         "value"
        ]
       },
       {
        "data": "d4ztUHmt+z/DjV92vUr+P6H8KADYs+k/ErdkzsRQ6j/tq97bl8z5P2Dlaw+qoec/mRQCqfGW0D8/gFfYLTbFP+rn65tVSak/YfDs0LO0sj97rlDb/fjBPw==",
        "encoding": "base64",
        "path": [
         "color",
         9,
         "value"
        ]
       },
       {
        "data": "l72CY4pP9j/0lJ6TBdz9P/2y8KQjLuc/CO3+CMSi6T+EL/YZoDP4PzSJcE03uOY/tNsQv9sQzz/T57LZEA/JP2O3IamOxak/RAY4b7R/sD+9nnTG8CzFPw==",
        "encoding": "base64",
        "path": [
         "color",
         10,
         "value"
        ]
       },
       {
        "data": "lMsoTwfE8D/gG87n61j5P31rcGK6Z+Y/pIzfYt2E6D+Upluny0L3P6LoJUG+buM/3EzGp5Kn0T/72SUWJ6rGP/dfDQRwwao/UUG8fnkVsD8RgfasAWnEPw==",
        "encoding": "base64",
        "path": [
         "color",
         11,
         "value"
        ]
       },
       {
        "data": "EKEXpvT57j8bYNW1G+n3PxZWhXJl8eU/3Ixol8cu5T8Q1deSDWT1P3W9ZMOFz+I//Eco7isjzj8pCrs6A7vGP9jtWnuP2ac/Repem9g8rT+PhKHxxyzFPw==",
        "encoding": "base64",
        "path": [
         "color",
         12,
         "value"
        ]
       },
       {
        "data": "sb0IoOG28D8UqamFjaH2P0tWWRkT7+Y/qAI8KANK5D+RD00dC3P1P4fl76S6/+E/OGhsea510D8pACV0zsnEPzi9gCAxwKY/4neTi9IJrT8ASp3swSPBPw==",
        "encoding": "base64",
        "path": [
         "color",
         13,
         "value"
        ]
       },
       {
        "data": "AXwCy28b6z/+Cji6iBTzP7vE10s/OeQ/T0BEijjo4z9WKH1NBOjzP+H3QDdpt90/Frg3/17wzj83IZZz4ZzFPz8duPjbXac/CJkUDRCBrT+JgwqMyaXEPw==",
        "encoding": "base64",
        "path": [
         "color",
         14,
         "value"
        ]
       },
       {
        "data": "RRNUdQk45D9/tRZcg9XuP07O34slwuI/N7bE1uN74j9EsLJhKnnyP5QsqXu8rdg/IiXXRzwQzz+lo3dOvP3DP+p/L3I45qU/FUEz6vzKqz+4wS2ouCnDPw==",
        "encoding": "base64",
        "path": [
         "color",
         15,
         "value"
        ]
       },
       {
        "data": "hPU7TpqH4j/HFZ6CUevtP0Xt/QGrUeM/+69aL4aV4T/ULnjmpU/yP2htrewsTtg/uMzkLwsS0T+LL78EBSnEPzgpFDzUOKc/mEnIZK29rj9y7zHHZU3DPw==",
        "encoding": "base64",
        "path": [
         "color",
         16,
         "value"
        ]
       },
       {
        "data": "c8BIBxGI3D9hDL0xHdbrP+P1yrBAOuU/SWMnfELA4D+xu+aa9dryP/a19Nb1fNg/luvm+SbKzj+DeQ8iWLXDPxHKha5voKY/KlxgMVs+sD/adH6tu9DCPw==",
        "encoding": "base64",
        "path": [
         "color",
         17,
         "value"
        ]
       },
       {
        "data": "mWBcTSJE2T+i32QDxVjrP9qa58T5suQ/HW3KBLYA4D9ZhPgVHDnyP2YU6jo9/dc/O/kIWHWnyz84YLTNuVvDP3JsKDKjZ6U/NjTIQeJRqz+R1zSmB1HDPw==",
        "encoding": "base64",
        "path": [
         "color",
         18,
         "value"
        ]
       },
       {
        "data": "tVcmygWt1j+VgRRyWdvoP78jvgYlkuE/hohJykqK3z+UoNIjWIvwP18AY1F+TtQ/yLEwINwd0D899gSWJpzEP6YFnGgfW6g/6GXJv0hPsD8jRhpP8HPGPw==",
        "encoding": "base64",
        "path": [
         "color",
         19,
         "value"
        ]
       }
      ],
      "model_module": "bqplot",
      "model_module_version": "^0.5.21",
      "model_name": "GridHeatMapModel",
      "state": {
       "anchor_style": {
        "fill": "blue"
       },
       "color": [
        {
         "dtype": "float64",
         "shape": [
          11
         ],
         "type": null
        },
        {
         "dtype": "float64",
         "shape": [
          11
         ],
         "type": null
        },
        {
         "dtype": "float64",
         "shape": [
          11
         ],
         "type": null
        },
        {
         "dtype": "float64",
         "shape": [
          11
         ],
         "type": null
        },
        {
         "dtype": "float64",
         "shape": [
          11
         ],
         "type": null
        },
        {
         "dtype": "float64",
         "shape": [
          11
         ],
         "type": null
        },
        {
         "dtype": "float64",
         "shape": [
          11
         ],
         "type": null
        },
        {
         "dtype": "float64",
         "shape": [
          11
         ],
         "type": null
        },
        {
         "dtype": "float64",
         "shape": [
          11
         ],
         "type": null
        },
        {
         "dtype": "float64",
         "shape": [
          11
         ],
         "type": null
        },
        {
         "dtype": "float64",
         "shape": [
          11
         ],
         "type": null
        },
        {
         "dtype": "float64",
         "shape": [
          11
         ],
         "type": null
        },
        {
         "dtype": "float64",
         "shape": [
          11
         ],
         "type": null
        },
        {
         "dtype": "float64",
         "shape": [
          11
         ],
         "type": null
        },
        {
         "dtype": "float64",
         "shape": [
          11
         ],
         "type": null
        },
        {
         "dtype": "float64",
         "shape": [
          11
         ],
         "type": null
        },
        {
         "dtype": "float64",
         "shape": [
          11
         ],
         "type": null
        },
        {
         "dtype": "float64",
         "shape": [
          11
         ],
         "type": null
        },
        {
         "dtype": "float64",
         "shape": [
          11
         ],
         "type": null
        },
        {
         "dtype": "float64",
         "shape": [
          11
         ],
         "type": null
        }
       ],
       "interactions": {
        "click": "select"
       },
       "scales": {
        "color": "IPY_MODEL_6cd9437210cf41199b5e6880452e0d4f",
        "column": "IPY_MODEL_ebce3807e17c46f795645e1fac7987da",
        "row": "IPY_MODEL_857e18d3c0b74c1a988c9326fbbc1d1a"
       },
       "selected_style": {
        "opacity": 1
       },
       "unselected_style": {
        "opacity": 0.8
       }
      }
     },
     "d1b1de73461743f6a781be04e9fd77e5": {
      "model_module": "@jupyter-widgets/base",
      "model_module_version": "1.2.0",
      "model_name": "LayoutModel",
      "state": {}
     },
     "d20817d08dca4dd1b5e08b545000119d": {
      "model_module": "bqplot",
      "model_module_version": "^0.5.21",
      "model_name": "ColorAxisModel",
      "state": {
       "orientation": "vertical",
       "scale": "IPY_MODEL_6cd9437210cf41199b5e6880452e0d4f",
       "side": "right",
       "tick_values": null
      }
     },
     "d3a592379abb4983993ab9dfb0e01b91": {
      "model_module": "@jupyter-widgets/base",
      "model_module_version": "1.2.0",
      "model_name": "LayoutModel",
      "state": {}
     },
     "d537da222d5e4c38b505dbf1009a04c9": {
      "model_module": "@jupyter-widgets/controls",
      "model_module_version": "1.5.0",
      "model_name": "DropdownModel",
      "state": {
       "_options_labels": [
        "SO2_CONC",
        "SO4_CONC",
        "NO3_CONC",
        "HNO3_CONC",
        "TNO3_CONC",
        "NH4_CONC",
        "CA_CONC",
        "NA_CONC",
        "MG_CONC",
        "K_CONC",
        "CL_CONC"
       ],
       "description": "xf",
       "index": 0,
       "layout": "IPY_MODEL_60f4e6a7c98549cfbc9f50e25ff93aa4",
       "style": "IPY_MODEL_8d9f5c503fdb45fa83185499935b8669"
      }
     },
     "d5a7ca1b37f94ccf98e2a203d148ea40": {
      "model_module": "@jupyter-widgets/controls",
      "model_module_version": "1.5.0",
      "model_name": "DescriptionStyleModel",
      "state": {
       "description_width": ""
      }
     },
     "d5e35f52914441a5848d6894a6d61526": {
      "model_module": "@jupyter-widgets/controls",
      "model_module_version": "1.5.0",
      "model_name": "DropdownModel",
      "state": {
       "_options_labels": [
        "SITE_ID",
        "YEAR"
       ],
       "description": "yf",
       "index": 0,
       "layout": "IPY_MODEL_bb1f29c25ed842b5a0bf39f6cf1827b7",
       "style": "IPY_MODEL_35b1664bd56741a39ac651f8d32b9a20"
      }
     },
     "d6ffa8329eb04e0786bfe742e551b4ea": {
      "model_module": "@jupyter-widgets/controls",
      "model_module_version": "1.5.0",
      "model_name": "DropdownModel",
      "state": {
       "_options_labels": [
        "2017.0",
        "2016.0",
        "2005.0",
        "2008.0",
        "2011.0",
        "2009.0",
        "2010.0",
        "2015.0",
        "2018.0",
        "2020.0",
        "2013.0",
        "2012.0",
        "2006.0",
        "2007.0",
        "2014.0",
        "2019.0",
        "2004.0",
        "2003.0",
        "2002.0",
        "2001.0"
       ],
       "description": "yf",
       "index": 0,
       "layout": "IPY_MODEL_047a6a9dfc7e4acaa6b5c4001848fac4",
       "style": "IPY_MODEL_94e2e81ec6914744abba0364088941d5"
      }
     },
     "d8c795328d4847df82a200febc9ca21f": {
      "model_module": "@jupyter-widgets/base",
      "model_module_version": "1.2.0",
      "model_name": "LayoutModel",
      "state": {}
     },
     "da85b064c1234876a1afc789a9a8140b": {
      "model_module": "@jupyter-widgets/controls",
      "model_module_version": "1.5.0",
      "model_name": "LabelModel",
      "state": {
       "layout": "IPY_MODEL_d1b1de73461743f6a781be04e9fd77e5",
       "style": "IPY_MODEL_98a0590b24024d558a78d0d7622caf42"
      }
     },
     "df44c5539140496fa7df2131a5d06b7b": {
      "model_module": "@jupyter-widgets/base",
      "model_module_version": "1.2.0",
      "model_name": "LayoutModel",
      "state": {}
     },
     "df73273fa39a4c6c962db82f9f6dcb99": {
      "model_module": "bqplot",
      "model_module_version": "^0.5.21",
      "model_name": "AxisModel",
      "state": {
       "scale": "IPY_MODEL_ebce3807e17c46f795645e1fac7987da",
       "side": "bottom",
       "tick_values": null
      }
     },
     "e87a33f98b924747b775f3232eae0e9f": {
      "model_module": "@jupyter-widgets/controls",
      "model_module_version": "1.5.0",
      "model_name": "HBoxModel",
      "state": {
       "children": [
        "IPY_MODEL_94e585bfa89049cf92767d400058bc2e",
        "IPY_MODEL_ef2e8b9a4d154d458930e35c66c40203"
       ],
       "layout": "IPY_MODEL_8b7e09b689b943b8af963282b48e8123"
      }
     },
     "e8bfdc8c69d0430ab072d3ce8a575d94": {
      "model_module": "@jupyter-widgets/base",
      "model_module_version": "1.2.0",
      "model_name": "LayoutModel",
      "state": {}
     },
     "e9e54653b1d842e2a966ea03683bcac2": {
      "model_module": "@jupyter-widgets/controls",
      "model_module_version": "1.5.0",
      "model_name": "DropdownModel",
      "state": {
       "_options_labels": [
        "SO2_CONC",
        "SO4_CONC",
        "NO3_CONC",
        "HNO3_CONC",
        "TNO3_CONC",
        "NH4_CONC",
        "CA_CONC",
        "NA_CONC",
        "MG_CONC",
        "K_CONC",
        "CL_CONC"
       ],
       "description": "xf",
       "index": 0,
       "layout": "IPY_MODEL_596454a0241747198d375866f826e375",
       "style": "IPY_MODEL_9eed1a4843f640b787ba3e932db9392b"
      }
     },
     "ebce3807e17c46f795645e1fac7987da": {
      "model_module": "bqplot",
      "model_module_version": "^0.5.21",
      "model_name": "OrdinalScaleModel",
      "state": {}
     },
     "eea65ac396604ac88ecc1ba43c9b7a58": {
      "model_module": "@jupyter-widgets/controls",
      "model_module_version": "1.5.0",
      "model_name": "LabelModel",
      "state": {
       "layout": "IPY_MODEL_3f00b45ec67c4361892224371c6b08f1",
       "style": "IPY_MODEL_483772ee649c4ff08a93a0ed98f69b03"
      }
     },
     "ef2e8b9a4d154d458930e35c66c40203": {
      "model_module": "bqplot",
      "model_module_version": "^0.5.21",
      "model_name": "FigureModel",
      "state": {
       "axes": [
        "IPY_MODEL_821b1d7e5e11422d8aa28d26795ef33c",
        "IPY_MODEL_46541e8c1b084b83a255d0ee5a48cf4d"
       ],
       "layout": "IPY_MODEL_a885b106b38d463e8993a04a50bdec82",
       "marks": [
        "IPY_MODEL_63637842a92a451fa495cf67e5158c3b"
       ],
       "scale_x": "IPY_MODEL_805f8b7d8bb54fd29bf8d5f179cca77f",
       "scale_y": "IPY_MODEL_7a907a6824bb4d489f78233f12c9204b"
      }
     },
     "effd2ef015ed479b87498f922197f19f": {
      "model_module": "bqplot",
      "model_module_version": "^0.5.21",
      "model_name": "ColorAxisModel",
      "state": {
       "orientation": "vertical",
       "scale": "IPY_MODEL_9ac8f2c7e7b14a0ca88dabe8d0c067b6",
       "side": "right",
       "tick_values": null
      }
     },
     "faffc922dbdc49ecb5c70cfdc04bda86": {
      "model_module": "@jupyter-widgets/controls",
      "model_module_version": "1.5.0",
      "model_name": "VBoxModel",
      "state": {
       "children": [
        "IPY_MODEL_da85b064c1234876a1afc789a9a8140b",
        "IPY_MODEL_76dfa8dd4e39447c9b44a5a9771cb96a"
       ],
       "layout": "IPY_MODEL_e8bfdc8c69d0430ab072d3ce8a575d94"
      }
     },
     "fcd88fd12b054cc98016a56ce7eba7d4": {
      "buffers": [
       {
        "data": "TTJyFva0/T+JtfgUAOMIQOXaUDHO3/o/++jUlc/y3D/kuFM6WP8AQBCv6xfshuE/g8DKoUW20z+bZOQs7GkLQFc+y/Pg7tw/WipvRzgtyD9pUgq6vaQWQA==",
        "encoding": "base64",
        "path": [
         "color",
         0,
         "value"
        ]
       },
       {
        "data": "J1CsO/7z/D/ygEM5Yr4JQP+s9NVQZQBApJvEILBy5D+hL/LnEG0FQA7liPk2QeQ/4E+Nl24S0z/ipZvEILAEQFNnFV0+udU/38oc1fN4xD+zsrKysrIMQA==",
        "encoding": "base64",
        "path": [
         "color",
         1,
         "value"
        ]
       },
       {
        "data": "SNgBqh2zD0A3xz9b0CMGQLlUc165Fug/bfK/AVzT8z92xXbZyo3/P2jJiBOt2O0/Ze8gICf5zD9Bkvya3qvIP36lPy3s+6k//5kMVH02sD+ZXngXbY/JPw==",
        "encoding": "base64",
        "path": [
         "color",
         2,
         "value"
        ]
       },
       {
        "data": "ViL5IAadDUBLxH7jEeQFQBLpSTwL/eo/MMDRM2ay8z/OgT8qP3AAQFMvsajdke4/Uo3eDEuozD/+UUron1XHP6xl6zGykqg/tVIVLLJsrz8cMhjgwtjAPw==",
        "encoding": "base64",
        "path": [
         "color",
         3,
         "value"
        ]
       },
       {
        "data": "H9K7U7xFDkBQSE5hQP0IQLNGHAjaIeo/IhvjGdt09T+0WEmhJhcBQAmvIQhLhvE/bgaajMVUzz9JCxwAzRTFP1/C/n6PEak/PUi+qRMBsD/M4jdsclTAPw==",
        "encoding": "base64",
        "path": [
         "color",
         4,
         "value"
        ]
       },
       {
        "data": "rymGv5kXCUAP4Qw/2CUFQHG7Qwklx+c/+tyfrrl28j+Ip/Z+6w7+PyT98Ai1kew/D0UcBEsl0D9pYzG6V4/EP4QJWIAko6k/sxU3kCUTsD+ccLe9DA+/Pw==",
        "encoding": "base64",
        "path": [
         "color",
         5,
         "value"
        ]
       },
       {
        "data": "cx4qnAboB0CVOS8OHDEFQJ+oJWTiTOo/VV7FYkbP8j/PIrNe9qj/PzjehSp0Ce4/muUjzfcq0T9yodEPWVLHP+p0HqgGh6s/0TWrGrC7sD9SMF3Xj5nBPw==",
        "encoding": "base64",
        "path": [
         "color",
         6,
         "value"
        ]
       },
       {
        "data": "HpJgAt+ZBEDY0f8Vx6cCQAmJLSk11Og/vLgBYnVP8D8RDP4m7Hb8P39OruEok+o/Zftm98gN0D/8iw/4MDPKP1SxtUZHSKs/XvpEKyVpsT9Y/5PIBOzEPw==",
        "encoding": "base64",
        "path": [
         "color",
         7,
         "value"
        ]
       },
       {
        "data": "QkgA+eM5/D+hkZ925A3/P561IPI+COg/XJ708Vyv6D8a2AWxXin4P++StBAMXec/FqnfDaLwzT9R4Ew8/3jGP46PUj9tOag/t4cYL+L3sj+Pkw3fUwDDPw==",
        "encoding": "base64",
        "path": [
         "color",
         8,
         "value"
        ]
       },
       {
        "data": "d4ztUHmt+z/DjV92vUr+P6H8KADYs+k/ErdkzsRQ6j/tq97bl8z5P2Dlaw+qoec/mRQCqfGW0D8/gFfYLTbFP+rn65tVSak/YfDs0LO0sj97rlDb/fjBPw==",
        "encoding": "base64",
        "path": [
         "color",
         9,
         "value"
        ]
       },
       {
        "data": "l72CY4pP9j/0lJ6TBdz9P/2y8KQjLuc/CO3+CMSi6T+EL/YZoDP4PzSJcE03uOY/tNsQv9sQzz/T57LZEA/JP2O3IamOxak/RAY4b7R/sD+9nnTG8CzFPw==",
        "encoding": "base64",
        "path": [
         "color",
         10,
         "value"
        ]
       },
       {
        "data": "lMsoTwfE8D/gG87n61j5P31rcGK6Z+Y/pIzfYt2E6D+Upluny0L3P6LoJUG+buM/3EzGp5Kn0T/72SUWJ6rGP/dfDQRwwao/UUG8fnkVsD8RgfasAWnEPw==",
        "encoding": "base64",
        "path": [
         "color",
         11,
         "value"
        ]
       },
       {
        "data": "EKEXpvT57j8bYNW1G+n3PxZWhXJl8eU/3Ixol8cu5T8Q1deSDWT1P3W9ZMOFz+I//Eco7isjzj8pCrs6A7vGP9jtWnuP2ac/Repem9g8rT+PhKHxxyzFPw==",
        "encoding": "base64",
        "path": [
         "color",
         12,
         "value"
        ]
       },
       {
        "data": "sb0IoOG28D8UqamFjaH2P0tWWRkT7+Y/qAI8KANK5D+RD00dC3P1P4fl76S6/+E/OGhsea510D8pACV0zsnEPzi9gCAxwKY/4neTi9IJrT8ASp3swSPBPw==",
        "encoding": "base64",
        "path": [
         "color",
         13,
         "value"
        ]
       },
       {
        "data": "AXwCy28b6z/+Cji6iBTzP7vE10s/OeQ/T0BEijjo4z9WKH1NBOjzP+H3QDdpt90/Frg3/17wzj83IZZz4ZzFPz8duPjbXac/CJkUDRCBrT+JgwqMyaXEPw==",
        "encoding": "base64",
        "path": [
         "color",
         14,
         "value"
        ]
       },
       {
        "data": "RRNUdQk45D9/tRZcg9XuP07O34slwuI/N7bE1uN74j9EsLJhKnnyP5QsqXu8rdg/IiXXRzwQzz+lo3dOvP3DP+p/L3I45qU/FUEz6vzKqz+4wS2ouCnDPw==",
        "encoding": "base64",
        "path": [
         "color",
         15,
         "value"
        ]
       },
       {
        "data": "hPU7TpqH4j/HFZ6CUevtP0Xt/QGrUeM/+69aL4aV4T/ULnjmpU/yP2htrewsTtg/uMzkLwsS0T+LL78EBSnEPzgpFDzUOKc/mEnIZK29rj9y7zHHZU3DPw==",
        "encoding": "base64",
        "path": [
         "color",
         16,
         "value"
        ]
       },
       {
        "data": "c8BIBxGI3D9hDL0xHdbrP+P1yrBAOuU/SWMnfELA4D+xu+aa9dryP/a19Nb1fNg/luvm+SbKzj+DeQ8iWLXDPxHKha5voKY/KlxgMVs+sD/adH6tu9DCPw==",
        "encoding": "base64",
        "path": [
         "color",
         17,
         "value"
        ]
       },
       {
        "data": "mWBcTSJE2T+i32QDxVjrP9qa58T5suQ/HW3KBLYA4D9ZhPgVHDnyP2YU6jo9/dc/O/kIWHWnyz84YLTNuVvDP3JsKDKjZ6U/NjTIQeJRqz+R1zSmB1HDPw==",
        "encoding": "base64",
        "path": [
         "color",
         18,
         "value"
        ]
       },
       {
        "data": "tVcmygWt1j+VgRRyWdvoP78jvgYlkuE/hohJykqK3z+UoNIjWIvwP18AY1F+TtQ/yLEwINwd0D899gSWJpzEP6YFnGgfW6g/6GXJv0hPsD8jRhpP8HPGPw==",
        "encoding": "base64",
        "path": [
         "color",
         19,
         "value"
        ]
       }
      ],
      "model_module": "bqplot",
      "model_module_version": "^0.5.21",
      "model_name": "GridHeatMapModel",
      "state": {
       "anchor_style": {
        "fill": "blue"
       },
       "color": [
        {
         "dtype": "float64",
         "shape": [
          11
         ],
         "type": null
        },
        {
         "dtype": "float64",
         "shape": [
          11
         ],
         "type": null
        },
        {
         "dtype": "float64",
         "shape": [
          11
         ],
         "type": null
        },
        {
         "dtype": "float64",
         "shape": [
          11
         ],
         "type": null
        },
        {
         "dtype": "float64",
         "shape": [
          11
         ],
         "type": null
        },
        {
         "dtype": "float64",
         "shape": [
          11
         ],
         "type": null
        },
        {
         "dtype": "float64",
         "shape": [
          11
         ],
         "type": null
        },
        {
         "dtype": "float64",
         "shape": [
          11
         ],
         "type": null
        },
        {
         "dtype": "float64",
         "shape": [
          11
         ],
         "type": null
        },
        {
         "dtype": "float64",
         "shape": [
          11
         ],
         "type": null
        },
        {
         "dtype": "float64",
         "shape": [
          11
         ],
         "type": null
        },
        {
         "dtype": "float64",
         "shape": [
          11
         ],
         "type": null
        },
        {
         "dtype": "float64",
         "shape": [
          11
         ],
         "type": null
        },
        {
         "dtype": "float64",
         "shape": [
          11
         ],
         "type": null
        },
        {
         "dtype": "float64",
         "shape": [
          11
         ],
         "type": null
        },
        {
         "dtype": "float64",
         "shape": [
          11
         ],
         "type": null
        },
        {
         "dtype": "float64",
         "shape": [
          11
         ],
         "type": null
        },
        {
         "dtype": "float64",
         "shape": [
          11
         ],
         "type": null
        },
        {
         "dtype": "float64",
         "shape": [
          11
         ],
         "type": null
        },
        {
         "dtype": "float64",
         "shape": [
          11
         ],
         "type": null
        }
       ],
       "interactions": {
        "click": "select"
       },
       "scales": {
        "color": "IPY_MODEL_9ac8f2c7e7b14a0ca88dabe8d0c067b6",
        "column": "IPY_MODEL_c8fa95df77844fb2ae7b9961a4977083",
        "row": "IPY_MODEL_95ce671708f046f489463f73ffd7b103"
       },
       "selected_style": {
        "opacity": 1
       },
       "unselected_style": {
        "opacity": 0.8
       }
      }
     },
     "fd5fc4bdc6b24120812ba56512240f7c": {
      "model_module": "@jupyter-widgets/output",
      "model_module_version": "1.0.0",
      "model_name": "OutputModel",
      "state": {
       "layout": "IPY_MODEL_ba56fe5aedf44debb4cbc691529e7a4a",
       "outputs": [
        {
         "data": {
          "image/png": "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\n",
          "text/plain": "<Figure size 432x288 with 1 Axes>"
         },
         "metadata": {
          "needs_background": "light"
         },
         "output_type": "display_data"
        }
       ]
      }
     }
    },
    "version_major": 2,
    "version_minor": 0
   }
  }
 },
 "nbformat": 4,
 "nbformat_minor": 5
}
